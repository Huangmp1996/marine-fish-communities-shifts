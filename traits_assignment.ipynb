{
 "cells": [
  {
   "cell_type": "code",
   "execution_count": 1,
   "id": "e49dc555-601f-481b-ac9e-5ff4efe134c1",
   "metadata": {
    "vscode": {
     "languageId": "r"
    }
   },
   "outputs": [
    {
     "name": "stderr",
     "output_type": "stream",
     "text": [
      "── \u001b[1mAttaching core tidyverse packages\u001b[22m ──────────────────────── tidyverse 2.0.0 ──\n",
      "\u001b[32m✔\u001b[39m \u001b[34mdplyr    \u001b[39m 1.1.2     \u001b[32m✔\u001b[39m \u001b[34mreadr    \u001b[39m 2.1.4\n",
      "\u001b[32m✔\u001b[39m \u001b[34mforcats  \u001b[39m 1.0.0     \u001b[32m✔\u001b[39m \u001b[34mstringr  \u001b[39m 1.5.0\n",
      "\u001b[32m✔\u001b[39m \u001b[34mggplot2  \u001b[39m 3.4.2     \u001b[32m✔\u001b[39m \u001b[34mtibble   \u001b[39m 3.2.1\n",
      "\u001b[32m✔\u001b[39m \u001b[34mlubridate\u001b[39m 1.9.2     \u001b[32m✔\u001b[39m \u001b[34mtidyr    \u001b[39m 1.3.0\n",
      "\u001b[32m✔\u001b[39m \u001b[34mpurrr    \u001b[39m 1.0.1     \n",
      "── \u001b[1mConflicts\u001b[22m ────────────────────────────────────────── tidyverse_conflicts() ──\n",
      "\u001b[31m✖\u001b[39m \u001b[34mdplyr\u001b[39m::\u001b[32mfilter()\u001b[39m masks \u001b[34mstats\u001b[39m::filter()\n",
      "\u001b[31m✖\u001b[39m \u001b[34mdplyr\u001b[39m::\u001b[32mlag()\u001b[39m    masks \u001b[34mstats\u001b[39m::lag()\n",
      "\u001b[36mℹ\u001b[39m Use the conflicted package (\u001b[3m\u001b[34m<http://conflicted.r-lib.org/>\u001b[39m\u001b[23m) to force all conflicts to become errors\n"
     ]
    }
   ],
   "source": [
    "library(tidyverse)"
   ]
  },
  {
   "cell_type": "markdown",
   "id": "b7a9e6c1-6be8-474b-9142-fac6e6fa6e6d",
   "metadata": {},
   "source": [
    "# taxa verified "
   ]
  },
  {
   "cell_type": "code",
   "execution_count": 2,
   "id": "9271105d-9ba9-4cfe-8fda-dbe63a927159",
   "metadata": {
    "vscode": {
     "languageId": "r"
    }
   },
   "outputs": [],
   "source": [
    "biotime <- read.csv('biotime_adopted_raw.csv')\n",
    "rls <- read.csv('RLS_total_fish.csv')"
   ]
  },
  {
   "cell_type": "code",
   "execution_count": 4,
   "metadata": {
    "vscode": {
     "languageId": "r"
    }
   },
   "outputs": [
    {
     "data": {
      "text/html": [
       "217860"
      ],
      "text/latex": [
       "217860"
      ],
      "text/markdown": [
       "217860"
      ],
      "text/plain": [
       "[1] 217860"
      ]
     },
     "metadata": {},
     "output_type": "display_data"
    }
   ],
   "source": [
    "nrow(biotime)"
   ]
  },
  {
   "cell_type": "code",
   "execution_count": 145,
   "id": "01eb9159-306c-49b3-a9a1-6aadd668b360",
   "metadata": {
    "vscode": {
     "languageId": "r"
    }
   },
   "outputs": [],
   "source": [
    "biotime_sample_table <- read.csv('biotime_sample_table.csv') %>% filter(year_span > 4, coverage >= 0.85)\n",
    "rls_sample_table <- read.csv('RLS_sample_table.csv') %>% filter(year_span > 4, coverage >= 0.85)"
   ]
  },
  {
   "cell_type": "code",
   "execution_count": 146,
   "id": "f402baf3-f76e-4caf-bf3f-56e252eb98c7",
   "metadata": {
    "vscode": {
     "languageId": "r"
    }
   },
   "outputs": [],
   "source": [
    "biotime_selected <- left_join(biotime_sample_table, biotime, by = c('STUDY_ID', 'grid', 'YEAR'))\n",
    "rls_selected <- left_join(rls_sample_table, rls, by = c('grid', 'year'))"
   ]
  },
  {
   "cell_type": "code",
   "execution_count": 147,
   "id": "7e22e9f6-af31-45bc-af00-74ee4c4f0b4f",
   "metadata": {
    "vscode": {
     "languageId": "r"
    }
   },
   "outputs": [],
   "source": [
    "biotime_binomial <- biotime_selected$GENUS_SPECIES[str_detect(biotime_selected$GENUS_SPECIES, '\\\\s')]\n",
    "rls_binomial <- rls_selected$species_name[str_detect(rls_selected$species_name, '\\\\s')]"
   ]
  },
  {
   "cell_type": "code",
   "execution_count": 148,
   "id": "97d7b94e-fcc3-4e0e-835d-f0728abc3dfd",
   "metadata": {
    "vscode": {
     "languageId": "r"
    }
   },
   "outputs": [],
   "source": [
    "obis_species <- c()\n",
    "obis_files <- list.files('obis_download/data_coverage/data_slim/', full.names = T)\n",
    "for (i in obis_files){data <- read.csv(i)\n",
    "                      sample <- read.csv(gsub('data_slim', 'sample_table', i)) %>% filter(year_span > 4, coverage >= 0.85)\n",
    "                      data_selected <- left_join(sample, data, by = c('grid', 'date_year'))\n",
    "                      obis_species <- union(obis_species, unique(data_selected$scientificNam))\n",
    "                     }"
   ]
  },
  {
   "cell_type": "code",
   "execution_count": 149,
   "id": "bf4ba7fe-542e-4cb1-965f-7c8e14ddd206",
   "metadata": {
    "vscode": {
     "languageId": "r"
    }
   },
   "outputs": [
    {
     "data": {
      "text/html": [
       "4731"
      ],
      "text/latex": [
       "4731"
      ],
      "text/markdown": [
       "4731"
      ],
      "text/plain": [
       "[1] 4731"
      ]
     },
     "metadata": {},
     "output_type": "display_data"
    }
   ],
   "source": [
    "n_distinct(obis_species)"
   ]
  },
  {
   "cell_type": "code",
   "execution_count": 150,
   "id": "7cbb8276-1eaf-4b60-971b-f072a826459d",
   "metadata": {
    "vscode": {
     "languageId": "r"
    }
   },
   "outputs": [
    {
     "data": {
      "text/html": [
       "6528"
      ],
      "text/latex": [
       "6528"
      ],
      "text/markdown": [
       "6528"
      ],
      "text/plain": [
       "[1] 6528"
      ]
     },
     "metadata": {},
     "output_type": "display_data"
    }
   ],
   "source": [
    "taxa <- union(biotime_binomial, rls_binomial) %>% union(obis_species)\n",
    "n_distinct(taxa)\n",
    "# write.table(taxa, 'TraitsCollection/fishbase_download/taxa_all.txt', sep = '\\t', row.names = F, col.names = F, quote = F)"
   ]
  },
  {
   "cell_type": "code",
   "execution_count": 153,
   "id": "84f6f4ec-a89d-4ba6-b960-3d218ab8330c",
   "metadata": {
    "vscode": {
     "languageId": "r"
    }
   },
   "outputs": [
    {
     "data": {
      "text/html": [
       "<style>\n",
       ".list-inline {list-style: none; margin:0; padding: 0}\n",
       ".list-inline>li {display: inline-block}\n",
       ".list-inline>li:not(:last-child)::after {content: \"\\00b7\"; padding: 0 .5ex}\n",
       "</style>\n",
       "<ol class=list-inline><li>'Paralichthinae'</li><li>'Istiophoridae'</li><li>'Scomberesocidae'</li><li>'Nototheniidae'</li><li>'Channichthyidae'</li><li>'Unidentified'</li></ol>\n"
      ],
      "text/latex": [
       "\\begin{enumerate*}\n",
       "\\item 'Paralichthinae'\n",
       "\\item 'Istiophoridae'\n",
       "\\item 'Scomberesocidae'\n",
       "\\item 'Nototheniidae'\n",
       "\\item 'Channichthyidae'\n",
       "\\item 'Unidentified'\n",
       "\\end{enumerate*}\n"
      ],
      "text/markdown": [
       "1. 'Paralichthinae'\n",
       "2. 'Istiophoridae'\n",
       "3. 'Scomberesocidae'\n",
       "4. 'Nototheniidae'\n",
       "5. 'Channichthyidae'\n",
       "6. 'Unidentified'\n",
       "\n",
       "\n"
      ],
      "text/plain": [
       "[1] \"Paralichthinae\"  \"Istiophoridae\"   \"Scomberesocidae\" \"Nototheniidae\"  \n",
       "[5] \"Channichthyidae\" \"Unidentified\"   "
      ]
     },
     "metadata": {},
     "output_type": "display_data"
    }
   ],
   "source": [
    "taxa_sup <- union(biotime_selected$GENUS_SPECIES, rls_selected$species_name) %>% setdiff(taxa)\n",
    "taxa_sup"
   ]
  },
  {
   "cell_type": "code",
   "execution_count": 154,
   "id": "088befce-94fe-455b-9286-4af349e5e70a",
   "metadata": {
    "vscode": {
     "languageId": "r"
    }
   },
   "outputs": [
    {
     "data": {
      "text/html": [
       "5094"
      ],
      "text/latex": [
       "5094"
      ],
      "text/markdown": [
       "5094"
      ],
      "text/plain": [
       "[1] 5094"
      ]
     },
     "metadata": {},
     "output_type": "display_data"
    }
   ],
   "source": [
    "# read output from global names verifier with taxa as input\n",
    "taxa_verified_table <- read.csv('TraitsCollection/fishbase_download/verifier.globalnames.org.csv')\n",
    "CurrentName <- taxa_verified_table$ClassificationPath[str_detect(taxa_verified_table$ClassificationPath,\n",
    "                                                                 \"Osteichthyes|Chondrichthyes|Teleostei|Elasmobranchii\")]\n",
    "pattern = '[A-Z][a-z]+\\\\s[a-z]+$'\n",
    "taxa_verified_binomial <- str_extract(CurrentName, pattern = pattern)\n",
    "taxa_verified_binomial <- taxa_verified_binomial[!is.na(taxa_verified_binomial)] %>% unique()\n",
    "n_distinct(taxa_verified_binomial)"
   ]
  },
  {
   "cell_type": "markdown",
   "id": "5f55f2df-b78c-4d3d-8127-d8e2350cf411",
   "metadata": {},
   "source": [
    "# fishbase traits download"
   ]
  },
  {
   "cell_type": "code",
   "execution_count": 67,
   "id": "948c7db7-3a62-4f9c-89c2-5137a5007002",
   "metadata": {
    "vscode": {
     "languageId": "r"
    }
   },
   "outputs": [],
   "source": [
    "cmd <- paste0('Rscript fishbase_download.R ', taxa_verified_binomial)\n",
    "cmd_table <- data.frame(cmd = cmd)"
   ]
  },
  {
   "cell_type": "code",
   "execution_count": 68,
   "id": "ccf4eebf-2960-4fc9-8d3b-9fd9ed8022ee",
   "metadata": {
    "vscode": {
     "languageId": "r"
    }
   },
   "outputs": [],
   "source": [
    "write.table(cmd, 'TraitsCollection/fishbase_download/commands.txt', row.names = F, col.names = F, quote = F)"
   ]
  },
  {
   "cell_type": "markdown",
   "id": "69caaf46-83cd-43ec-8373-598453d73c92",
   "metadata": {},
   "source": [
    "# traits description"
   ]
  },
  {
   "cell_type": "code",
   "execution_count": 3,
   "id": "f727af5b-7d4f-4bcf-a17d-2a96059d024c",
   "metadata": {
    "vscode": {
     "languageId": "r"
    }
   },
   "outputs": [],
   "source": [
    "# compare with TraitCollectionFishNAtlanticNEPacificContShelf\n",
    "traits_AtlPaci <- read.csv('TraitsCollection/TraitCollectionFishNAtlanticNEPacificContShelf.csv')"
   ]
  },
  {
   "cell_type": "code",
   "execution_count": 4,
   "id": "6ad2cbb9-26e0-44ab-be68-bfae3ed4fe00",
   "metadata": {
    "vscode": {
     "languageId": "r"
    }
   },
   "outputs": [
    {
     "data": {
      "text/html": [
       "2010"
      ],
      "text/latex": [
       "2010"
      ],
      "text/markdown": [
       "2010"
      ],
      "text/plain": [
       "[1] 2010"
      ]
     },
     "metadata": {},
     "output_type": "display_data"
    },
    {
     "data": {
      "text/html": [
       "3849"
      ],
      "text/latex": [
       "3849"
      ],
      "text/markdown": [
       "3849"
      ],
      "text/plain": [
       "[1] 3849"
      ]
     },
     "metadata": {},
     "output_type": "display_data"
    }
   ],
   "source": [
    "unique(traits_AtlPaci$taxon) %>% n_distinct()\n",
    "setdiff(taxa_verified_binomial, unique(traits_AtlPaci$taxon)) %>% n_distinct()"
   ]
  },
  {
   "cell_type": "code",
   "execution_count": 4,
   "id": "6e1c868b-e136-481e-993e-d3beac96aee1",
   "metadata": {
    "vscode": {
     "languageId": "r"
    }
   },
   "outputs": [],
   "source": [
    "traits_sup <- read.csv('TraitsCollection/fishbase_download/traits_sup.csv')\n",
    "fishbase_traits <- read.csv('TraitsCollection/fishbase_download/fishbase_traits_trophic.csv') %>% \n",
    "    bind_rows(traits_sup) %>% \n",
    "    select(-c(FoodI, Freq)) %>% distinct() %>% \n",
    "    mutate(FeedingPath = as.factor(FeedingPath), trophic_group = as.factor(trophic_group))"
   ]
  },
  {
   "cell_type": "code",
   "execution_count": 5,
   "id": "f2ec1e4c-1258-4ae6-a858-2ad682dd215b",
   "metadata": {
    "vscode": {
     "languageId": "r"
    }
   },
   "outputs": [
    {
     "data": {
      "text/plain": [
       "   Species           MaxLengthTL          Troph        ComDepthMin     \n",
       " Length:5106        Min.   :   1.83   Min.   :2.000   Min.   :   0.00  \n",
       " Class :character   1st Qu.:  15.00   1st Qu.:3.240   1st Qu.:   4.00  \n",
       " Mode  :character   Median :  30.00   Median :3.490   Median :  11.00  \n",
       "                    Mean   :  48.23   Mean   :3.466   Mean   :  88.35  \n",
       "                    3rd Qu.:  56.00   3rd Qu.:3.810   3rd Qu.:  59.00  \n",
       "                    Max.   :1520.00   Max.   :4.940   Max.   :3037.00  \n",
       "                    NA's   :3         NA's   :3       NA's   :281      \n",
       "  ComDepthMax      TempPrefMean    FeedingPath    age.maturity   \n",
       " Min.   :   0.0   Min.   :-1.70   benthic:3152   Min.   : 0.000  \n",
       " 1st Qu.:  18.0   1st Qu.:13.70   pelagic:1892   1st Qu.: 2.028  \n",
       " Median :  41.0   Median :24.70   NA's   :  62   Median : 3.500  \n",
       " Mean   : 186.7   Mean   :20.24                  Mean   : 4.515  \n",
       " 3rd Qu.: 170.0   3rd Qu.:27.70                  3rd Qu.: 5.482  \n",
       " Max.   :3834.0   Max.   :29.00                  Max.   :29.500  \n",
       " NA's   :277      NA's   :397                    NA's   :4612    \n",
       "   fecundity         offspring.size     diet_breadth        trophic_group \n",
       " Min.   :        1   Min.   :  1.400   Min.   : 0.000   generalist :1273  \n",
       " 1st Qu.:      197   1st Qu.:  2.500   1st Qu.: 0.000   zoobenthos :1026  \n",
       " Median :    32226   Median :  3.300   Median : 1.000   zooplankton: 369  \n",
       " Mean   :  1589779   Mean   :  5.111   Mean   : 1.956   nekton     : 286  \n",
       " 3rd Qu.:   334000   3rd Qu.:  4.950   3rd Qu.: 3.000   plants     : 179  \n",
       " Max.   :300000000   Max.   :190.000   Max.   :20.000   (Other)    :   7  \n",
       " NA's   :4433        NA's   :4793      NA's   :6        NA's       :1966  "
      ]
     },
     "metadata": {},
     "output_type": "display_data"
    }
   ],
   "source": [
    "summary(fishbase_traits)\n",
    "# setdiff(taxa_verified_binomial, fishbase_traits$Species)"
   ]
  },
  {
   "cell_type": "code",
   "execution_count": 6,
   "id": "85be1d62-b79f-4244-b70a-325c02f93e52",
   "metadata": {
    "vscode": {
     "languageId": "r"
    }
   },
   "outputs": [
    {
     "data": {
      "text/plain": [
       "\n",
       "\tPearson's product-moment correlation\n",
       "\n",
       "data:  fishbase_traits$MaxLengthTL and fishbase_traits$Troph\n",
       "t = 28.089, df = 5101, p-value < 2.2e-16\n",
       "alternative hypothesis: true correlation is not equal to 0\n",
       "95 percent confidence interval:\n",
       " 0.3419962 0.3895262\n",
       "sample estimates:\n",
       "      cor \n",
       "0.3659998 \n"
      ]
     },
     "metadata": {},
     "output_type": "display_data"
    }
   ],
   "source": [
    "cor.test(fishbase_traits$MaxLengthTL, fishbase_traits$Troph)"
   ]
  },
  {
   "cell_type": "code",
   "execution_count": 5,
   "id": "1023e2f7-1096-4e4b-8981-e488ac63a249",
   "metadata": {
    "vscode": {
     "languageId": "r"
    }
   },
   "outputs": [
    {
     "data": {
      "image/png": "[encoded data removed]",
      "text/plain": [
       "Plot with title “Histogram of fishbase_traits$MaxLengthTL”"
      ]
     },
     "metadata": {
      "image/png": {
       "height": 420,
       "width": 420
      }
     },
     "output_type": "display_data"
    }
   ],
   "source": [
    "hist(fishbase_traits$MaxLengthTL, breaks = 300)"
   ]
  },
  {
   "cell_type": "code",
   "execution_count": 9,
   "id": "82ea1505-1672-4a64-bc4f-8e07f56a04d4",
   "metadata": {
    "vscode": {
     "languageId": "r"
    }
   },
   "outputs": [
    {
     "name": "stdout",
     "output_type": "stream",
     "text": [
      " Ord.factor w/ 12 levels \"[1.83,8]\"<\"(8,11.5]\"<..: 10 3 3 12 6 4 4 4 5 5 ...\n",
      " - attr(*, \"type\")= chr \"quantile\"\n",
      " - attr(*, \"breaks\")= num [1:13] 1.83 8 11.5 15 19.01 ...\n",
      " - attr(*, \"raw\")= num [1:5106] 60 13 15 140 30 ...\n"
     ]
    }
   ],
   "source": [
    "library(dlookr)\n",
    "bins <- binning(fishbase_traits$MaxLengthTL, nbins = 12, type = 'quantile')\n",
    "str(bins)\n",
    "saveRDS(bins, 'output/maxLengthTL_bins.rds')"
   ]
  },
  {
   "cell_type": "code",
   "execution_count": 8,
   "id": "d750ce92-de6c-45e0-b4d8-d5b8a84b022a",
   "metadata": {
    "vscode": {
     "languageId": "r"
    }
   },
   "outputs": [
    {
     "name": "stderr",
     "output_type": "stream",
     "text": [
      "Warning message in load_default_font():\n",
      "“the temporary directory /tmp/Rtmp5Dl5sG does not have write permission,\n",
      "failed to load the 'WenQuanYi Micro Hei' font”\n"
     ]
    },
    {
     "name": "stdout",
     "output_type": "stream",
     "text": [
      " Ord.factor w/ 12 levels \"[2,2.69]\"<\"(2.69,3.07]\"<..: 6 11 3 12 2 3 1 2 10 2 ...\n",
      " - attr(*, \"type\")= chr \"quantile\"\n",
      " - attr(*, \"breaks\")= num [1:13] 2 2.69 3.07 3.24 3.34 ...\n",
      " - attr(*, \"raw\")= num [1:5106] 3.43 4.2 3.22 4.5 3.02 ...\n"
     ]
    }
   ],
   "source": [
    "bins_troph <- dlookr::binning(fishbase_traits$Troph, nbins = 12, type = 'quantile')\n",
    "str(bins_troph)\n",
    "saveRDS(bins_troph, 'output/Troph_bins.rds')"
   ]
  },
  {
   "cell_type": "code",
   "execution_count": 7,
   "id": "78102458-ec8b-4596-b199-b26707598650",
   "metadata": {
    "vscode": {
     "languageId": "r"
    }
   },
   "outputs": [
    {
     "data": {
      "text/html": [
       "315"
      ],
      "text/latex": [
       "315"
      ],
      "text/markdown": [
       "315"
      ],
      "text/plain": [
       "[1] 315"
      ]
     },
     "metadata": {},
     "output_type": "display_data"
    }
   ],
   "source": [
    "inters <- filter(fishbase_traits, is.na(trophic_group)) %>% \n",
    "    left_join(traits_AtlPaci, by = c('Species' = 'taxon')) %>% \n",
    "    filter(!is.na(feeding.mode))\n",
    "length(unique(inters$Species)) # number of species in the atlpaci"
   ]
  },
  {
   "cell_type": "markdown",
   "id": "f89c5b78-372a-4aa0-a3cf-603dc4c2c9dc",
   "metadata": {
    "tags": []
   },
   "source": [
    "# traits interpolation"
   ]
  },
  {
   "cell_type": "markdown",
   "id": "aac4aaba-4bab-4a72-af51-da1539482246",
   "metadata": {},
   "source": [
    "## phylopars"
   ]
  },
  {
   "cell_type": "code",
   "execution_count": 8,
   "id": "ab4f0c60-87e4-4b33-b8c9-6607287cc803",
   "metadata": {
    "vscode": {
     "languageId": "r"
    }
   },
   "outputs": [],
   "source": [
    "library(ape)\n",
    "# tree <- read.tree('TraitsCollection/actinopt_12k_treePL.tre.xz')\n",
    "tree <- read.tree('TraitsCollection/actinopt_full.trees.xz')"
   ]
  },
  {
   "cell_type": "code",
   "execution_count": 9,
   "id": "8190c682-84c3-461a-95ba-ae1bfd81f32a",
   "metadata": {
    "vscode": {
     "languageId": "r"
    }
   },
   "outputs": [
    {
     "data": {
      "text/html": [
       "397"
      ],
      "text/latex": [
       "397"
      ],
      "text/markdown": [
       "397"
      ],
      "text/plain": [
       "[1] 397"
      ]
     },
     "metadata": {},
     "output_type": "display_data"
    }
   ],
   "source": [
    "species_without_temp <- filter(fishbase_traits, is.na(TempPrefMean)) %>% pull(Species)\n",
    "species_without_temp <- gsub(' ', '_', species_without_temp)\n",
    "n_distinct(species_without_temp) # number of species without 'TempPrefMean' traits"
   ]
  },
  {
   "cell_type": "code",
   "execution_count": 10,
   "id": "5f19d2e8-49a4-483b-8929-ad034860f1c5",
   "metadata": {
    "vscode": {
     "languageId": "r"
    }
   },
   "outputs": [
    {
     "data": {
      "text/html": [
       "319"
      ],
      "text/latex": [
       "319"
      ],
      "text/markdown": [
       "319"
      ],
      "text/plain": [
       "[1] 319"
      ]
     },
     "metadata": {},
     "output_type": "display_data"
    }
   ],
   "source": [
    "intersect(species_without_temp, tree[[1]]$tip.label) %>% n_distinct() # species without TempPrefMean but in tree"
   ]
  },
  {
   "cell_type": "code",
   "execution_count": 11,
   "id": "fb0cda36-f0b3-4993-8085-9a3da4972e9e",
   "metadata": {
    "vscode": {
     "languageId": "r"
    }
   },
   "outputs": [
    {
     "data": {
      "text/plain": [
       "\n",
       "Phylogenetic tree with 31516 tips and 31515 internal nodes.\n",
       "\n",
       "Tip labels:\n",
       "  Polypterus_ornatipinnis, Polypterus_weeksii, Polypterus_mokelembembe, Polypterus_retropinnis, Polypterus_congicus, Polypterus_ansorgii, ...\n",
       "\n",
       "Rooted; includes branch lengths."
      ]
     },
     "metadata": {},
     "output_type": "display_data"
    }
   ],
   "source": [
    "tree[[1]]"
   ]
  },
  {
   "cell_type": "code",
   "execution_count": null,
   "id": "32bcdee8-7989-4233-b1ea-a2140932ca74",
   "metadata": {
    "tags": [],
    "vscode": {
     "languageId": "r"
    }
   },
   "outputs": [],
   "source": [
    "# imputed with phylogeny\n",
    "library(Rphylopars)\n",
    "library(picante)\n",
    "\n",
    "fishbase_traits$Species <- gsub(' ', '_', fishbase_traits$Species)\n",
    "subtraits <- column_to_rownames(fishbase_traits, var = 'Species')\n",
    "\n",
    "matched <- picante::match.phylo.data(tree[[1]], subtraits)\n",
    "matched$data_sub <- select(matched$data, TempPrefMean) %>% \n",
    "                mutate_all(as.numeric) %>% tibble::rownames_to_column('species')\n",
    "                    \n",
    "p_BM <- phylopars(trait_data = matched$data_sub, tree = matched$phy)"
   ]
  },
  {
   "cell_type": "code",
   "execution_count": 13,
   "id": "4fb825e0-aa74-4090-bd3d-fe0b9c929f78",
   "metadata": {
    "vscode": {
     "languageId": "r"
    }
   },
   "outputs": [
    {
     "data": {
      "text/html": [
       "4488"
      ],
      "text/latex": [
       "4488"
      ],
      "text/markdown": [
       "4488"
      ],
      "text/plain": [
       "[1] 4488"
      ]
     },
     "metadata": {},
     "output_type": "display_data"
    },
    {
     "data": {
      "text/html": [
       "8975"
      ],
      "text/latex": [
       "8975"
      ],
      "text/markdown": [
       "8975"
      ],
      "text/plain": [
       "[1] 8975"
      ]
     },
     "metadata": {},
     "output_type": "display_data"
    },
    {
     "data": {
      "text/plain": [
       "   Species          TempPrefMean_imputed\n",
       " Length:5106        Min.   :-1.70       \n",
       " Class :character   1st Qu.:14.20       \n",
       " Mode  :character   Median :24.60       \n",
       "                    Mean   :20.37       \n",
       "                    3rd Qu.:27.60       \n",
       "                    Max.   :29.00       \n",
       "                    NA's   :78          "
      ]
     },
     "metadata": {},
     "output_type": "display_data"
    }
   ],
   "source": [
    "nrow(matched$data_sub)\n",
    "nrow(p_BM$anc_recon)\n",
    "\n",
    "imputed <- as.data.frame(p_BM$anc_recon[1:4488,]) %>% tibble::rownames_to_column('Species') %>%\n",
    "    rename('TempPrefMean_imputed' = 'p_BM$anc_recon[1:4488, ]')\n",
    "traits_imputed <- filter(fishbase_traits, !(Species %in% imputed$Species)) %>% select(Species, TempPrefMean) %>%\n",
    "    rename('TempPrefMean_imputed' = 'TempPrefMean') %>% bind_rows(imputed)\n",
    "summary(traits_imputed)\n",
    "fishbase_traits_imputed <- left_join(fishbase_traits, traits_imputed, by = c('Species'))"
   ]
  },
  {
   "cell_type": "markdown",
   "id": "f6d2c25b-4750-49cb-93b5-3a946f22d181",
   "metadata": {},
   "source": [
    "## genus mean"
   ]
  },
  {
   "cell_type": "code",
   "execution_count": 14,
   "id": "1fbbfa78-8e22-47f7-a1fc-d6e477b6cc34",
   "metadata": {
    "vscode": {
     "languageId": "r"
    }
   },
   "outputs": [
    {
     "data": {
      "text/plain": [
       "   Species           MaxLengthTL          Troph        ComDepthMin     \n",
       " Length:5323        Min.   :   1.83   Min.   :2.000   Min.   :   0.00  \n",
       " Class :character   1st Qu.:  15.00   1st Qu.:3.240   1st Qu.:   4.00  \n",
       " Mode  :character   Median :  30.00   Median :3.490   Median :  11.00  \n",
       "                    Mean   :  48.31   Mean   :3.462   Mean   :  85.62  \n",
       "                    3rd Qu.:  56.00   3rd Qu.:3.810   3rd Qu.:  55.00  \n",
       "                    Max.   :1520.00   Max.   :4.940   Max.   :3037.00  \n",
       "                                                      NA's   :287      \n",
       "  ComDepthMax      TempPrefMean    FeedingPath    age.maturity   \n",
       " Min.   :   0.0   Min.   :-1.70   benthic:3313   Min.   : 0.000  \n",
       " 1st Qu.:  18.0   1st Qu.:14.03   pelagic:1947   1st Qu.: 2.028  \n",
       " Median :  40.0   Median :24.90   NA's   :  63   Median : 3.500  \n",
       " Mean   : 181.8   Mean   :20.41                  Mean   : 4.531  \n",
       " 3rd Qu.: 161.0   3rd Qu.:27.70                  3rd Qu.: 5.482  \n",
       " Max.   :3834.0   Max.   :29.00                  Max.   :29.500  \n",
       " NA's   :283      NA's   :405                    NA's   :4809    \n",
       "   fecundity         offspring.size     diet_breadth        trophic_group \n",
       " Min.   :        1   Min.   :  1.400   Min.   : 0.000   generalist :1343  \n",
       " 1st Qu.:      200   1st Qu.:  2.500   1st Qu.: 0.000   zoobenthos :1088  \n",
       " Median :    33500   Median :  3.300   Median : 1.000   zooplankton: 378  \n",
       " Mean   :  1569539   Mean   :  5.625   Mean   : 1.986   nekton     : 300  \n",
       " 3rd Qu.:   334500   3rd Qu.:  4.950   3rd Qu.: 3.000   plants     : 187  \n",
       " Max.   :300000000   Max.   :190.000   Max.   :20.000   (Other)    :   7  \n",
       " NA's   :4622        NA's   :4994      NA's   :6        NA's       :2020  \n",
       " TempPrefMean_imputed    genus              family         \n",
       " Min.   :-1.70        Length:5323        Length:5323       \n",
       " 1st Qu.:14.47        Class :character   Class :character  \n",
       " Median :24.82        Mode  :character   Mode  :character  \n",
       " Mean   :20.54                                             \n",
       " 3rd Qu.:27.70                                             \n",
       " Max.   :29.00                                             \n",
       " NA's   :12                                                "
      ]
     },
     "metadata": {},
     "output_type": "display_data"
    }
   ],
   "source": [
    "# fill NA with the mean values within the same genus and #family\n",
    "pattern_genus = '[A-Z][a-z]+(?=_)'\n",
    "pattern_fam <- '(?<=\\\\|)[A-Z][a-z]+idae'\n",
    "family <- str_extract(taxa_verified_table$ClassificationPath, pattern = pattern_fam)\n",
    "pattern_species = '[A-Z][a-z]+\\\\s[a-z]+$'\n",
    "Species <- str_extract(taxa_verified_table$ClassificationPath, pattern = pattern_species) %>% \n",
    "    gsub(' ', '_', .)\n",
    "taxon <- data.frame(Species = Species, family = family) # extract family, genus, and species\n",
    "\n",
    "fishbase_traits_imputed$genus <- str_extract(fishbase_traits_imputed$Species, pattern = pattern_genus)\n",
    "fishbase_traits_imputed <- left_join(fishbase_traits_imputed, taxon, by = 'Species')\n",
    "\n",
    "fishbase_traits_imputed <- group_by(fishbase_traits_imputed, genus) %>%\n",
    "    mutate(TempPrefMean_imputed = replace_na(TempPrefMean_imputed, mean(TempPrefMean_imputed, na.rm = TRUE)),\n",
    "          MaxLengthTL = replace_na(MaxLengthTL, mean(MaxLengthTL, na.rm = TRUE)),\n",
    "          Troph = replace_na(Troph, mean(Troph, na.rm = TRUE)))\n",
    "\n",
    "# fishbase_traits_imputed <- group_by(fishbase_traits_imputed, family) %>%\n",
    "#     mutate(TempPrefMean_imputed = replace_na(TempPrefMean_imputed, mean(TempPrefMean_imputed, na.rm = TRUE)))\n",
    "summary(fishbase_traits_imputed)"
   ]
  },
  {
   "cell_type": "markdown",
   "id": "f8b33822-b3cb-46f2-a050-462bb322ddcd",
   "metadata": {},
   "source": [
    "## gbif occurrence calculation"
   ]
  },
  {
   "cell_type": "code",
   "execution_count": 12,
   "id": "0720acd4-82e8-48dc-83e4-db90f02c436b",
   "metadata": {
    "vscode": {
     "languageId": "r"
    }
   },
   "outputs": [
    {
     "data": {
      "text/html": [
       "<table class=\"dataframe\">\n",
       "<caption>A data.frame: 1 × 15</caption>\n",
       "<thead>\n",
       "\t<tr><th scope=col>Species</th><th scope=col>MaxLengthTL</th><th scope=col>Troph</th><th scope=col>ComDepthMin</th><th scope=col>ComDepthMax</th><th scope=col>TempPrefMean</th><th scope=col>FeedingPath</th><th scope=col>age.maturity</th><th scope=col>fecundity</th><th scope=col>offspring.size</th><th scope=col>diet_breadth</th><th scope=col>trophic_group</th><th scope=col>TempPrefMean_imputed</th><th scope=col>genus</th><th scope=col>family</th></tr>\n",
       "\t<tr><th scope=col>&lt;chr&gt;</th><th scope=col>&lt;dbl&gt;</th><th scope=col>&lt;dbl&gt;</th><th scope=col>&lt;int&gt;</th><th scope=col>&lt;int&gt;</th><th scope=col>&lt;dbl&gt;</th><th scope=col>&lt;chr&gt;</th><th scope=col>&lt;dbl&gt;</th><th scope=col>&lt;dbl&gt;</th><th scope=col>&lt;dbl&gt;</th><th scope=col>&lt;int&gt;</th><th scope=col>&lt;chr&gt;</th><th scope=col>&lt;dbl&gt;</th><th scope=col>&lt;chr&gt;</th><th scope=col>&lt;chr&gt;</th></tr>\n",
       "</thead>\n",
       "<tbody>\n",
       "\t<tr><td>Percalates_novemaculeatus</td><td>60</td><td>3.41</td><td>NA</td><td>NA</td><td>NA</td><td>benthic</td><td>NA</td><td>NA</td><td>NA</td><td>0</td><td>NA</td><td>NaN</td><td>Percalates</td><td>Percichthyidae</td></tr>\n",
       "</tbody>\n",
       "</table>\n"
      ],
      "text/latex": [
       "A data.frame: 1 × 15\n",
       "\\begin{tabular}{lllllllllllllll}\n",
       " Species & MaxLengthTL & Troph & ComDepthMin & ComDepthMax & TempPrefMean & FeedingPath & age.maturity & fecundity & offspring.size & diet\\_breadth & trophic\\_group & TempPrefMean\\_imputed & genus & family\\\\\n",
       " <chr> & <dbl> & <dbl> & <int> & <int> & <dbl> & <chr> & <dbl> & <dbl> & <dbl> & <int> & <chr> & <dbl> & <chr> & <chr>\\\\\n",
       "\\hline\n",
       "\t Percalates\\_novemaculeatus & 60 & 3.41 & NA & NA & NA & benthic & NA & NA & NA & 0 & NA & NaN & Percalates & Percichthyidae\\\\\n",
       "\\end{tabular}\n"
      ],
      "text/markdown": [
       "\n",
       "A data.frame: 1 × 15\n",
       "\n",
       "| Species &lt;chr&gt; | MaxLengthTL &lt;dbl&gt; | Troph &lt;dbl&gt; | ComDepthMin &lt;int&gt; | ComDepthMax &lt;int&gt; | TempPrefMean &lt;dbl&gt; | FeedingPath &lt;chr&gt; | age.maturity &lt;dbl&gt; | fecundity &lt;dbl&gt; | offspring.size &lt;dbl&gt; | diet_breadth &lt;int&gt; | trophic_group &lt;chr&gt; | TempPrefMean_imputed &lt;dbl&gt; | genus &lt;chr&gt; | family &lt;chr&gt; |\n",
       "|---|---|---|---|---|---|---|---|---|---|---|---|---|---|---|\n",
       "| Percalates_novemaculeatus | 60 | 3.41 | NA | NA | NA | benthic | NA | NA | NA | 0 | NA | NaN | Percalates | Percichthyidae |\n",
       "\n"
      ],
      "text/plain": [
       "  Species                   MaxLengthTL Troph ComDepthMin ComDepthMax\n",
       "1 Percalates_novemaculeatus 60          3.41  NA          NA         \n",
       "  TempPrefMean FeedingPath age.maturity fecundity offspring.size diet_breadth\n",
       "1 NA           benthic     NA           NA        NA             0           \n",
       "  trophic_group TempPrefMean_imputed genus      family        \n",
       "1 NA            NaN                  Percalates Percichthyidae"
      ]
     },
     "metadata": {},
     "output_type": "display_data"
    }
   ],
   "source": [
    "filter(fishbase_traits_imputed, is.na(TempPrefMean_imputed))\n",
    "species_without_tempPref <- filter(fishbase_traits_imputed, is.na(TempPrefMean_imputed)) %>% pull(Species) %>% gsub('_', ' ', .)"
   ]
  },
  {
   "cell_type": "code",
   "execution_count": 6,
   "id": "a634de3f-096f-4ee2-928f-023d99987efd",
   "metadata": {
    "vscode": {
     "languageId": "r"
    }
   },
   "outputs": [
    {
     "data": {
      "text/html": [
       "<style>\n",
       ".list-inline {list-style: none; margin:0; padding: 0}\n",
       ".list-inline>li {display: inline-block}\n",
       ".list-inline>li:not(:last-child)::after {content: \"\\00b7\"; padding: 0 .5ex}\n",
       "</style>\n",
       "<ol class=list-inline><li>'crs'</li><li>'lat_bnds'</li><li>'lon_bnds'</li><li>'depth_bnds'</li><li>'climatology_bounds'</li><li>'t_an'</li><li>'t_mn'</li><li>'t_dd'</li><li>'t_sd'</li><li>'t_se'</li><li>'t_oa'</li><li>'t_gp'</li></ol>\n"
      ],
      "text/latex": [
       "\\begin{enumerate*}\n",
       "\\item 'crs'\n",
       "\\item 'lat\\_bnds'\n",
       "\\item 'lon\\_bnds'\n",
       "\\item 'depth\\_bnds'\n",
       "\\item 'climatology\\_bounds'\n",
       "\\item 't\\_an'\n",
       "\\item 't\\_mn'\n",
       "\\item 't\\_dd'\n",
       "\\item 't\\_sd'\n",
       "\\item 't\\_se'\n",
       "\\item 't\\_oa'\n",
       "\\item 't\\_gp'\n",
       "\\end{enumerate*}\n"
      ],
      "text/markdown": [
       "1. 'crs'\n",
       "2. 'lat_bnds'\n",
       "3. 'lon_bnds'\n",
       "4. 'depth_bnds'\n",
       "5. 'climatology_bounds'\n",
       "6. 't_an'\n",
       "7. 't_mn'\n",
       "8. 't_dd'\n",
       "9. 't_sd'\n",
       "10. 't_se'\n",
       "11. 't_oa'\n",
       "12. 't_gp'\n",
       "\n",
       "\n"
      ],
      "text/plain": [
       " [1] \"crs\"                \"lat_bnds\"           \"lon_bnds\"          \n",
       " [4] \"depth_bnds\"         \"climatology_bounds\" \"t_an\"              \n",
       " [7] \"t_mn\"               \"t_dd\"               \"t_sd\"              \n",
       "[10] \"t_se\"               \"t_oa\"               \"t_gp\"              "
      ]
     },
     "metadata": {},
     "output_type": "display_data"
    },
    {
     "data": {
      "text/html": [
       "<style>\n",
       ".list-inline {list-style: none; margin:0; padding: 0}\n",
       ".list-inline>li {display: inline-block}\n",
       ".list-inline>li:not(:last-child)::after {content: \"\\00b7\"; padding: 0 .5ex}\n",
       "</style>\n",
       "<ol class=list-inline><li>360</li><li>180</li><li>102</li></ol>\n"
      ],
      "text/latex": [
       "\\begin{enumerate*}\n",
       "\\item 360\n",
       "\\item 180\n",
       "\\item 102\n",
       "\\end{enumerate*}\n"
      ],
      "text/markdown": [
       "1. 360\n",
       "2. 180\n",
       "3. 102\n",
       "\n",
       "\n"
      ],
      "text/plain": [
       "[1] 360 180 102"
      ]
     },
     "metadata": {},
     "output_type": "display_data"
    },
    {
     "data": {
      "text/html": [
       "<dl>\n",
       "\t<dt>$hasatt</dt>\n",
       "\t\t<dd>TRUE</dd>\n",
       "\t<dt>$value</dt>\n",
       "\t\t<dd>9.96920996838687e+36</dd>\n",
       "</dl>\n"
      ],
      "text/latex": [
       "\\begin{description}\n",
       "\\item[\\$hasatt] TRUE\n",
       "\\item[\\$value] 9.96920996838687e+36\n",
       "\\end{description}\n"
      ],
      "text/markdown": [
       "$hasatt\n",
       ":   TRUE\n",
       "$value\n",
       ":   9.96920996838687e+36\n",
       "\n",
       "\n"
      ],
      "text/plain": [
       "$hasatt\n",
       "[1] TRUE\n",
       "\n",
       "$value\n",
       "[1] 9.96921e+36\n"
      ]
     },
     "metadata": {},
     "output_type": "display_data"
    }
   ],
   "source": [
    "library(ncdf4)\n",
    "ncfile <- 'TraitsCollection/woa18_decav_t00_01.nc'\n",
    "nc_data <- ncdf4::nc_open(ncfile)\n",
    "names(nc_data$var)\n",
    "\n",
    "depth <- ncvar_get(nc_data, \"depth\")\n",
    "\n",
    "t_an.array <- ncvar_get(nc_data, \"t_an\") # store the data in a 3-dimensional array\n",
    "dim(t_an.array) # 102 depth series\n",
    "fillvalue <- ncatt_get(nc_data, \"t_an\", \"_FillValue\")\n",
    "fillvalue\n",
    "\n",
    "nc_close(nc_data)\n",
    "t_an.array[t_an.array == fillvalue$value] <- NA"
   ]
  },
  {
   "cell_type": "code",
   "execution_count": 7,
   "id": "e031a6b4-c37e-4e49-849d-3379aae6c193",
   "metadata": {
    "vscode": {
     "languageId": "r"
    }
   },
   "outputs": [
    {
     "data": {
      "text/html": [
       "<style>\n",
       ".list-inline {list-style: none; margin:0; padding: 0}\n",
       ".list-inline>li {display: inline-block}\n",
       ".list-inline>li:not(:last-child)::after {content: \"\\00b7\"; padding: 0 .5ex}\n",
       "</style>\n",
       "<ol class=list-inline><li>0</li><li>5</li><li>10</li><li>15</li><li>20</li><li>25</li></ol>\n"
      ],
      "text/latex": [
       "\\begin{enumerate*}\n",
       "\\item 0\n",
       "\\item 5\n",
       "\\item 10\n",
       "\\item 15\n",
       "\\item 20\n",
       "\\item 25\n",
       "\\end{enumerate*}\n"
      ],
      "text/markdown": [
       "1. 0\n",
       "2. 5\n",
       "3. 10\n",
       "4. 15\n",
       "5. 20\n",
       "6. 25\n",
       "\n",
       "\n"
      ],
      "text/plain": [
       "[1]  0  5 10 15 20 25"
      ]
     },
     "metadata": {},
     "output_type": "display_data"
    }
   ],
   "source": [
    "head(depth)"
   ]
  },
  {
   "cell_type": "code",
   "execution_count": 8,
   "id": "fc22b1fd-8cdc-4846-96e6-bf3faf817435",
   "metadata": {
    "vscode": {
     "languageId": "r"
    }
   },
   "outputs": [
    {
     "data": {
      "text/html": [
       "<style>\n",
       ".list-inline {list-style: none; margin:0; padding: 0}\n",
       ".list-inline>li {display: inline-block}\n",
       ".list-inline>li:not(:last-child)::after {content: \"\\00b7\"; padding: 0 .5ex}\n",
       "</style>\n",
       "<ol class=list-inline><li>180</li><li>360</li><li>102</li></ol>\n"
      ],
      "text/latex": [
       "\\begin{enumerate*}\n",
       "\\item 180\n",
       "\\item 360\n",
       "\\item 102\n",
       "\\end{enumerate*}\n"
      ],
      "text/markdown": [
       "1. 180\n",
       "2. 360\n",
       "3. 102\n",
       "\n",
       "\n"
      ],
      "text/plain": [
       "[1] 180 360 102"
      ]
     },
     "metadata": {},
     "output_type": "display_data"
    }
   ],
   "source": [
    "temp_raster <- raster::brick(ncfile, varname = 't_an')\n",
    "dim(temp_raster)"
   ]
  },
  {
   "cell_type": "code",
   "execution_count": 9,
   "id": "894cf398-0be8-4e6c-891f-be0b02518b05",
   "metadata": {
    "vscode": {
     "languageId": "r"
    }
   },
   "outputs": [],
   "source": [
    "# calculated mean preferred temperature from gbif\n",
    "library(rgbif)\n",
    "gbif_downloading <- function(species){\n",
    "    key <- name_backbone(species)\n",
    "    d1 <- occ_download(\n",
    "        user = 'huangmp',\n",
    "        pwd = 'pan31415926',\n",
    "        email = 'huangmingpan@ioz.ac.cn',\n",
    "        type = \"and\",\n",
    "        pred(\"taxonKey\", key$usageKey),\n",
    "        pred(\"hasCoordinate\", TRUE),\n",
    "        pred_gte(\"year\", 1970),\n",
    "        pred(\"hasGeospatialIssue\", FALSE),\n",
    "        format = \"SIMPLE_CSV\"\n",
    "    )\n",
    "    occ <- occ_download_get(d1, path = \"./TraitsCollection/occ_download/\", overwrite = TRUE) %>% occ_download_import()\n",
    "    return(occ)\n",
    "}"
   ]
  },
  {
   "cell_type": "code",
   "execution_count": 10,
   "id": "3aa1957c-0fae-4a0e-9bb9-c3e3eb844ac0",
   "metadata": {
    "vscode": {
     "languageId": "r"
    }
   },
   "outputs": [],
   "source": [
    "tempPrefMean_calculating <- function(occ){\n",
    "    temp_result <- c()\n",
    "    for (i in 1:nrow(occ)){\n",
    "        if (!is.na(occ$depth[i])){ # NA depth\n",
    "            depth_level <- abs(occ$depth[i] - depth) %>% which.min()\n",
    "        }else{\n",
    "            depth_level <- 1\n",
    "             }\n",
    "        rasterlayer <- raster::raster(temp_raster, depth_level)\n",
    "        xy <- cbind(occ$decimalLongitude[i], occ$decimalLatitude[i])\n",
    "        temp <- raster::extract(rasterlayer, xy)\n",
    "        temp_result <- append(temp_result, temp)\n",
    "    }\n",
    "    temp_mean <- mean(temp_result, na.rm = TRUE)\n",
    "    return(temp_mean)\n",
    "}"
   ]
  },
  {
   "cell_type": "code",
   "execution_count": null,
   "id": "79b68bb2-543b-4c08-a2bf-eb0092219181",
   "metadata": {
    "vscode": {
     "languageId": "r"
    }
   },
   "outputs": [],
   "source": [
    "for (species in species_without_tempPref){\n",
    "    # species <- 'Aulohalaelurus labiosus'\n",
    "    print(species)\n",
    "    attempts <- 0\n",
    "    success <- FALSE\n",
    "    while (!success & attempts < 20){\n",
    "        tryCatch({\n",
    "            occ <- gbif_downloading(species)\n",
    "            temp_mean <- tempPrefMean_calculating(occ)\n",
    "            spname <- gsub(' ', '_', species)\n",
    "            fishbase_traits_imputed$TempPrefMean_imputed[which(fishbase_traits_imputed$Species == spname)] <- temp_mean\n",
    "            success <- TRUE\n",
    "            }, error = function(e){\n",
    "                print('retrying...')\n",
    "                attempts <- attempts + 1\n",
    "                }\n",
    "                 )\n",
    "        }\n",
    "}"
   ]
  },
  {
   "cell_type": "code",
   "execution_count": 4,
   "id": "17a72b3f-7bec-4908-ba8b-ee85b6685a76",
   "metadata": {
    "vscode": {
     "languageId": "r"
    }
   },
   "outputs": [],
   "source": [
    "# write.csv(fishbase_traits_imputed, 'TraitsCollection/fishbase_traits_imputed.csv', row.names = F)\n",
    "fishbase_traits_imputed <- read.csv('TraitsCollection/fishbase_traits_imputed.csv')"
   ]
  },
  {
   "cell_type": "code",
   "execution_count": 4,
   "id": "1a7b4f19-cbe6-4894-834a-bdc0387eb1ef",
   "metadata": {
    "vscode": {
     "languageId": "r"
    }
   },
   "outputs": [],
   "source": [
    "# deleted a freshwater fish species\n",
    "fishbase_traits_final <- filter(fishbase_traits_imputed, Species != 'Percalates_novemaculeatus') %>%\n",
    "    select(\"Species\", \"MaxLengthTL\", \"Troph\", \"TempPrefMean_imputed\", \"genus\", \"family\")\n",
    "fishbase_traits_final$Species <- gsub('_', ' ', fishbase_traits_final$Species)"
   ]
  },
  {
   "cell_type": "markdown",
   "id": "62707a43-4bba-4866-8ff4-c63e2771192b",
   "metadata": {},
   "source": [
    "## VIF between traits"
   ]
  },
  {
   "cell_type": "code",
   "execution_count": 7,
   "id": "82d8d86e-f489-4f70-8c11-7fcb8d93d220",
   "metadata": {
    "vscode": {
     "languageId": "r"
    }
   },
   "outputs": [
    {
     "data": {
      "text/html": [
       "<table class=\"dataframe\">\n",
       "<caption>A data.frame: 3 × 2</caption>\n",
       "<thead>\n",
       "\t<tr><th></th><th scope=col>variable</th><th scope=col>vif</th></tr>\n",
       "\t<tr><th></th><th scope=col>&lt;chr&gt;</th><th scope=col>&lt;dbl&gt;</th></tr>\n",
       "</thead>\n",
       "<tbody>\n",
       "\t<tr><th scope=row>1</th><td>Troph               </td><td>1.191</td></tr>\n",
       "\t<tr><th scope=row>2</th><td>MaxLengthTL         </td><td>1.154</td></tr>\n",
       "\t<tr><th scope=row>3</th><td>TempPrefMean_imputed</td><td>1.049</td></tr>\n",
       "</tbody>\n",
       "</table>\n"
      ],
      "text/latex": [
       "A data.frame: 3 × 2\n",
       "\\begin{tabular}{r|ll}\n",
       "  & variable & vif\\\\\n",
       "  & <chr> & <dbl>\\\\\n",
       "\\hline\n",
       "\t1 & Troph                & 1.191\\\\\n",
       "\t2 & MaxLengthTL          & 1.154\\\\\n",
       "\t3 & TempPrefMean\\_imputed & 1.049\\\\\n",
       "\\end{tabular}\n"
      ],
      "text/markdown": [
       "\n",
       "A data.frame: 3 × 2\n",
       "\n",
       "| <!--/--> | variable &lt;chr&gt; | vif &lt;dbl&gt; |\n",
       "|---|---|---|\n",
       "| 1 | Troph                | 1.191 |\n",
       "| 2 | MaxLengthTL          | 1.154 |\n",
       "| 3 | TempPrefMean_imputed | 1.049 |\n",
       "\n"
      ],
      "text/plain": [
       "  variable             vif  \n",
       "1 Troph                1.191\n",
       "2 MaxLengthTL          1.154\n",
       "3 TempPrefMean_imputed 1.049"
      ]
     },
     "metadata": {},
     "output_type": "display_data"
    }
   ],
   "source": [
    "library(spatialRF)\n",
    "vif_values <- vif(dplyr::select(fishbase_traits_imputed, MaxLengthTL, Troph, TempPrefMean_imputed))\n",
    "head(vif_values)"
   ]
  },
  {
   "cell_type": "markdown",
   "id": "fc02d128-cf9b-4494-8032-f4a9d5449d7b",
   "metadata": {},
   "source": [
    "# fit model"
   ]
  },
  {
   "cell_type": "markdown",
   "id": "e6a10107-248b-41dd-aaa7-f558cf3208da",
   "metadata": {},
   "source": [
    "## Biotime"
   ]
  },
  {
   "cell_type": "markdown",
   "id": "4aab31ef-a0a5-42b2-bec4-8644611d267b",
   "metadata": {},
   "source": [
    "### deal with unidentified fish in the dataset"
   ]
  },
  {
   "cell_type": "code",
   "execution_count": 155,
   "id": "affecb65-b773-4e3b-bbf4-1501700528fd",
   "metadata": {
    "vscode": {
     "languageId": "r"
    }
   },
   "outputs": [],
   "source": [
    "pattern_tip = '[^\\\\|]+$'\n",
    "taxa_verified_table$binomial <- str_extract(taxa_verified_table$ClassificationPath, pattern = pattern_tip)"
   ]
  },
  {
   "cell_type": "code",
   "execution_count": 156,
   "id": "329cc247-b166-46a4-8f4e-49fac7306fa1",
   "metadata": {
    "vscode": {
     "languageId": "r"
    }
   },
   "outputs": [
    {
     "data": {
      "text/html": [
       "<table class=\"dataframe\">\n",
       "<caption>A data.frame: 6 × 14</caption>\n",
       "<thead>\n",
       "\t<tr><th></th><th scope=col>STUDY_ID</th><th scope=col>grid</th><th scope=col>YEAR</th><th scope=col>coverage</th><th scope=col>species_richness</th><th scope=col>year_span</th><th scope=col>ABUNDANCE</th><th scope=col>BIOMASS</th><th scope=col>LATITUDE</th><th scope=col>LONGITUDE</th><th scope=col>PLOT</th><th scope=col>DEPTH</th><th scope=col>SAMPLE_DESC</th><th scope=col>GENUS_SPECIES</th></tr>\n",
       "\t<tr><th></th><th scope=col>&lt;int&gt;</th><th scope=col>&lt;int&gt;</th><th scope=col>&lt;int&gt;</th><th scope=col>&lt;dbl&gt;</th><th scope=col>&lt;int&gt;</th><th scope=col>&lt;int&gt;</th><th scope=col>&lt;dbl&gt;</th><th scope=col>&lt;dbl&gt;</th><th scope=col>&lt;dbl&gt;</th><th scope=col>&lt;dbl&gt;</th><th scope=col>&lt;chr&gt;</th><th scope=col>&lt;dbl&gt;</th><th scope=col>&lt;chr&gt;</th><th scope=col>&lt;chr&gt;</th></tr>\n",
       "</thead>\n",
       "<tbody>\n",
       "\t<tr><th scope=row>1</th><td>45</td><td>5269674</td><td>2006</td><td>0.8550883</td><td>220</td><td>9</td><td>1</td><td> 22.40</td><td>-17.5</td><td>-149</td><td>1</td><td>0</td><td>-17.5_-149_LTER_1_Backreef_Fish_Transect_1_Swath_5_m_12_7_2006     </td><td>Abudefduf septemfasciatus</td></tr>\n",
       "\t<tr><th scope=row>2</th><td>45</td><td>5269674</td><td>2006</td><td>0.8550883</td><td>220</td><td>9</td><td>2</td><td> 60.30</td><td>-17.5</td><td>-149</td><td>1</td><td>0</td><td>-17.5_-149_LTER_1_Backreef_Fish_Transect_1_Swath_5_m_12_7_2006     </td><td>Abudefduf septemfasciatus</td></tr>\n",
       "\t<tr><th scope=row>3</th><td>45</td><td>5269674</td><td>2006</td><td>0.8550883</td><td>220</td><td>9</td><td>1</td><td> 22.40</td><td>-17.5</td><td>-149</td><td>4</td><td>0</td><td>-17.5_-149_LTER_1_Backreef_Fish_Transect_4_Swath_5_m_12_7_2006     </td><td>Abudefduf septemfasciatus</td></tr>\n",
       "\t<tr><th scope=row>4</th><td>45</td><td>5269674</td><td>2006</td><td>0.8550883</td><td>220</td><td>9</td><td>1</td><td> 30.10</td><td>-17.5</td><td>-149</td><td>1</td><td>0</td><td>-17.5_-149_LTER_3_Backreef_Fish_Transect_1_Swath_5_m_16_7_2006     </td><td>Abudefduf septemfasciatus</td></tr>\n",
       "\t<tr><th scope=row>5</th><td>45</td><td>5269674</td><td>2006</td><td>0.8550883</td><td>220</td><td>9</td><td>1</td><td>140.90</td><td>-17.5</td><td>-149</td><td>2</td><td>0</td><td>-17.5_-149_LTER_6_Fringing_Reef_Fish_Transect_2_Swath_5_m_12_7_2006</td><td>Abudefduf septemfasciatus</td></tr>\n",
       "\t<tr><th scope=row>6</th><td>45</td><td>5269674</td><td>2006</td><td>0.8550883</td><td>220</td><td>9</td><td>5</td><td> 24.19</td><td>-17.5</td><td>-149</td><td>1</td><td>0</td><td>-17.5_-149_LTER_1_Backreef_Fish_Transect_1_Swath_5_m_12_7_2006     </td><td>Abudefduf sexfasciatus   </td></tr>\n",
       "</tbody>\n",
       "</table>\n"
      ],
      "text/latex": [
       "A data.frame: 6 × 14\n",
       "\\begin{tabular}{r|llllllllllllll}\n",
       "  & STUDY\\_ID & grid & YEAR & coverage & species\\_richness & year\\_span & ABUNDANCE & BIOMASS & LATITUDE & LONGITUDE & PLOT & DEPTH & SAMPLE\\_DESC & GENUS\\_SPECIES\\\\\n",
       "  & <int> & <int> & <int> & <dbl> & <int> & <int> & <dbl> & <dbl> & <dbl> & <dbl> & <chr> & <dbl> & <chr> & <chr>\\\\\n",
       "\\hline\n",
       "\t1 & 45 & 5269674 & 2006 & 0.8550883 & 220 & 9 & 1 &  22.40 & -17.5 & -149 & 1 & 0 & -17.5\\_-149\\_LTER\\_1\\_Backreef\\_Fish\\_Transect\\_1\\_Swath\\_5\\_m\\_12\\_7\\_2006      & Abudefduf septemfasciatus\\\\\n",
       "\t2 & 45 & 5269674 & 2006 & 0.8550883 & 220 & 9 & 2 &  60.30 & -17.5 & -149 & 1 & 0 & -17.5\\_-149\\_LTER\\_1\\_Backreef\\_Fish\\_Transect\\_1\\_Swath\\_5\\_m\\_12\\_7\\_2006      & Abudefduf septemfasciatus\\\\\n",
       "\t3 & 45 & 5269674 & 2006 & 0.8550883 & 220 & 9 & 1 &  22.40 & -17.5 & -149 & 4 & 0 & -17.5\\_-149\\_LTER\\_1\\_Backreef\\_Fish\\_Transect\\_4\\_Swath\\_5\\_m\\_12\\_7\\_2006      & Abudefduf septemfasciatus\\\\\n",
       "\t4 & 45 & 5269674 & 2006 & 0.8550883 & 220 & 9 & 1 &  30.10 & -17.5 & -149 & 1 & 0 & -17.5\\_-149\\_LTER\\_3\\_Backreef\\_Fish\\_Transect\\_1\\_Swath\\_5\\_m\\_16\\_7\\_2006      & Abudefduf septemfasciatus\\\\\n",
       "\t5 & 45 & 5269674 & 2006 & 0.8550883 & 220 & 9 & 1 & 140.90 & -17.5 & -149 & 2 & 0 & -17.5\\_-149\\_LTER\\_6\\_Fringing\\_Reef\\_Fish\\_Transect\\_2\\_Swath\\_5\\_m\\_12\\_7\\_2006 & Abudefduf septemfasciatus\\\\\n",
       "\t6 & 45 & 5269674 & 2006 & 0.8550883 & 220 & 9 & 5 &  24.19 & -17.5 & -149 & 1 & 0 & -17.5\\_-149\\_LTER\\_1\\_Backreef\\_Fish\\_Transect\\_1\\_Swath\\_5\\_m\\_12\\_7\\_2006      & Abudefduf sexfasciatus   \\\\\n",
       "\\end{tabular}\n"
      ],
      "text/markdown": [
       "\n",
       "A data.frame: 6 × 14\n",
       "\n",
       "| <!--/--> | STUDY_ID &lt;int&gt; | grid &lt;int&gt; | YEAR &lt;int&gt; | coverage &lt;dbl&gt; | species_richness &lt;int&gt; | year_span &lt;int&gt; | ABUNDANCE &lt;dbl&gt; | BIOMASS &lt;dbl&gt; | LATITUDE &lt;dbl&gt; | LONGITUDE &lt;dbl&gt; | PLOT &lt;chr&gt; | DEPTH &lt;dbl&gt; | SAMPLE_DESC &lt;chr&gt; | GENUS_SPECIES &lt;chr&gt; |\n",
       "|---|---|---|---|---|---|---|---|---|---|---|---|---|---|---|\n",
       "| 1 | 45 | 5269674 | 2006 | 0.8550883 | 220 | 9 | 1 |  22.40 | -17.5 | -149 | 1 | 0 | -17.5_-149_LTER_1_Backreef_Fish_Transect_1_Swath_5_m_12_7_2006      | Abudefduf septemfasciatus |\n",
       "| 2 | 45 | 5269674 | 2006 | 0.8550883 | 220 | 9 | 2 |  60.30 | -17.5 | -149 | 1 | 0 | -17.5_-149_LTER_1_Backreef_Fish_Transect_1_Swath_5_m_12_7_2006      | Abudefduf septemfasciatus |\n",
       "| 3 | 45 | 5269674 | 2006 | 0.8550883 | 220 | 9 | 1 |  22.40 | -17.5 | -149 | 4 | 0 | -17.5_-149_LTER_1_Backreef_Fish_Transect_4_Swath_5_m_12_7_2006      | Abudefduf septemfasciatus |\n",
       "| 4 | 45 | 5269674 | 2006 | 0.8550883 | 220 | 9 | 1 |  30.10 | -17.5 | -149 | 1 | 0 | -17.5_-149_LTER_3_Backreef_Fish_Transect_1_Swath_5_m_16_7_2006      | Abudefduf septemfasciatus |\n",
       "| 5 | 45 | 5269674 | 2006 | 0.8550883 | 220 | 9 | 1 | 140.90 | -17.5 | -149 | 2 | 0 | -17.5_-149_LTER_6_Fringing_Reef_Fish_Transect_2_Swath_5_m_12_7_2006 | Abudefduf septemfasciatus |\n",
       "| 6 | 45 | 5269674 | 2006 | 0.8550883 | 220 | 9 | 5 |  24.19 | -17.5 | -149 | 1 | 0 | -17.5_-149_LTER_1_Backreef_Fish_Transect_1_Swath_5_m_12_7_2006      | Abudefduf sexfasciatus    |\n",
       "\n"
      ],
      "text/plain": [
       "  STUDY_ID grid    YEAR coverage  species_richness year_span ABUNDANCE BIOMASS\n",
       "1 45       5269674 2006 0.8550883 220              9         1          22.40 \n",
       "2 45       5269674 2006 0.8550883 220              9         2          60.30 \n",
       "3 45       5269674 2006 0.8550883 220              9         1          22.40 \n",
       "4 45       5269674 2006 0.8550883 220              9         1          30.10 \n",
       "5 45       5269674 2006 0.8550883 220              9         1         140.90 \n",
       "6 45       5269674 2006 0.8550883 220              9         5          24.19 \n",
       "  LATITUDE LONGITUDE PLOT DEPTH\n",
       "1 -17.5    -149      1    0    \n",
       "2 -17.5    -149      1    0    \n",
       "3 -17.5    -149      4    0    \n",
       "4 -17.5    -149      1    0    \n",
       "5 -17.5    -149      2    0    \n",
       "6 -17.5    -149      1    0    \n",
       "  SAMPLE_DESC                                                        \n",
       "1 -17.5_-149_LTER_1_Backreef_Fish_Transect_1_Swath_5_m_12_7_2006     \n",
       "2 -17.5_-149_LTER_1_Backreef_Fish_Transect_1_Swath_5_m_12_7_2006     \n",
       "3 -17.5_-149_LTER_1_Backreef_Fish_Transect_4_Swath_5_m_12_7_2006     \n",
       "4 -17.5_-149_LTER_3_Backreef_Fish_Transect_1_Swath_5_m_16_7_2006     \n",
       "5 -17.5_-149_LTER_6_Fringing_Reef_Fish_Transect_2_Swath_5_m_12_7_2006\n",
       "6 -17.5_-149_LTER_1_Backreef_Fish_Transect_1_Swath_5_m_12_7_2006     \n",
       "  GENUS_SPECIES            \n",
       "1 Abudefduf septemfasciatus\n",
       "2 Abudefduf septemfasciatus\n",
       "3 Abudefduf septemfasciatus\n",
       "4 Abudefduf septemfasciatus\n",
       "5 Abudefduf septemfasciatus\n",
       "6 Abudefduf sexfasciatus   "
      ]
     },
     "metadata": {},
     "output_type": "display_data"
    }
   ],
   "source": [
    "head(biotime_selected)"
   ]
  },
  {
   "cell_type": "code",
   "execution_count": 157,
   "id": "d96c27c1-048b-45e2-a030-3526bc1aa685",
   "metadata": {
    "vscode": {
     "languageId": "r"
    }
   },
   "outputs": [
    {
     "data": {
      "text/html": [
       "<table class=\"dataframe\">\n",
       "<caption>A data.frame: 6 × 20</caption>\n",
       "<thead>\n",
       "\t<tr><th></th><th scope=col>STUDY_ID</th><th scope=col>grid</th><th scope=col>YEAR</th><th scope=col>coverage</th><th scope=col>species_richness</th><th scope=col>year_span</th><th scope=col>ABUNDANCE</th><th scope=col>BIOMASS</th><th scope=col>LATITUDE</th><th scope=col>LONGITUDE</th><th scope=col>PLOT</th><th scope=col>DEPTH</th><th scope=col>SAMPLE_DESC</th><th scope=col>GENUS_SPECIES</th><th scope=col>binomial</th><th scope=col>MaxLengthTL</th><th scope=col>Troph</th><th scope=col>TempPrefMean_imputed</th><th scope=col>genus</th><th scope=col>family</th></tr>\n",
       "\t<tr><th></th><th scope=col>&lt;int&gt;</th><th scope=col>&lt;int&gt;</th><th scope=col>&lt;int&gt;</th><th scope=col>&lt;dbl&gt;</th><th scope=col>&lt;int&gt;</th><th scope=col>&lt;int&gt;</th><th scope=col>&lt;dbl&gt;</th><th scope=col>&lt;dbl&gt;</th><th scope=col>&lt;dbl&gt;</th><th scope=col>&lt;dbl&gt;</th><th scope=col>&lt;chr&gt;</th><th scope=col>&lt;dbl&gt;</th><th scope=col>&lt;chr&gt;</th><th scope=col>&lt;chr&gt;</th><th scope=col>&lt;chr&gt;</th><th scope=col>&lt;dbl&gt;</th><th scope=col>&lt;dbl&gt;</th><th scope=col>&lt;dbl&gt;</th><th scope=col>&lt;chr&gt;</th><th scope=col>&lt;chr&gt;</th></tr>\n",
       "</thead>\n",
       "<tbody>\n",
       "\t<tr><th scope=row>1</th><td>45</td><td>5269674</td><td>2006</td><td>0.8550883</td><td>220</td><td>9</td><td>1</td><td> 22.40</td><td>-17.5</td><td>-149</td><td>1</td><td>0</td><td>-17.5_-149_LTER_1_Backreef_Fish_Transect_1_Swath_5_m_12_7_2006     </td><td>Abudefduf septemfasciatus</td><td>Abudefduf septemfasciatus</td><td>23</td><td>3.01</td><td>28.6</td><td>Abudefduf</td><td>Pomacentridae</td></tr>\n",
       "\t<tr><th scope=row>2</th><td>45</td><td>5269674</td><td>2006</td><td>0.8550883</td><td>220</td><td>9</td><td>2</td><td> 60.30</td><td>-17.5</td><td>-149</td><td>1</td><td>0</td><td>-17.5_-149_LTER_1_Backreef_Fish_Transect_1_Swath_5_m_12_7_2006     </td><td>Abudefduf septemfasciatus</td><td>Abudefduf septemfasciatus</td><td>23</td><td>3.01</td><td>28.6</td><td>Abudefduf</td><td>Pomacentridae</td></tr>\n",
       "\t<tr><th scope=row>3</th><td>45</td><td>5269674</td><td>2006</td><td>0.8550883</td><td>220</td><td>9</td><td>1</td><td> 22.40</td><td>-17.5</td><td>-149</td><td>4</td><td>0</td><td>-17.5_-149_LTER_1_Backreef_Fish_Transect_4_Swath_5_m_12_7_2006     </td><td>Abudefduf septemfasciatus</td><td>Abudefduf septemfasciatus</td><td>23</td><td>3.01</td><td>28.6</td><td>Abudefduf</td><td>Pomacentridae</td></tr>\n",
       "\t<tr><th scope=row>4</th><td>45</td><td>5269674</td><td>2006</td><td>0.8550883</td><td>220</td><td>9</td><td>1</td><td> 30.10</td><td>-17.5</td><td>-149</td><td>1</td><td>0</td><td>-17.5_-149_LTER_3_Backreef_Fish_Transect_1_Swath_5_m_16_7_2006     </td><td>Abudefduf septemfasciatus</td><td>Abudefduf septemfasciatus</td><td>23</td><td>3.01</td><td>28.6</td><td>Abudefduf</td><td>Pomacentridae</td></tr>\n",
       "\t<tr><th scope=row>5</th><td>45</td><td>5269674</td><td>2006</td><td>0.8550883</td><td>220</td><td>9</td><td>1</td><td>140.90</td><td>-17.5</td><td>-149</td><td>2</td><td>0</td><td>-17.5_-149_LTER_6_Fringing_Reef_Fish_Transect_2_Swath_5_m_12_7_2006</td><td>Abudefduf septemfasciatus</td><td>Abudefduf septemfasciatus</td><td>23</td><td>3.01</td><td>28.6</td><td>Abudefduf</td><td>Pomacentridae</td></tr>\n",
       "\t<tr><th scope=row>6</th><td>45</td><td>5269674</td><td>2006</td><td>0.8550883</td><td>220</td><td>9</td><td>5</td><td> 24.19</td><td>-17.5</td><td>-149</td><td>1</td><td>0</td><td>-17.5_-149_LTER_1_Backreef_Fish_Transect_1_Swath_5_m_12_7_2006     </td><td>Abudefduf sexfasciatus   </td><td>Abudefduf sexfasciatus   </td><td>19</td><td>2.70</td><td>28.4</td><td>Abudefduf</td><td>Pomacentridae</td></tr>\n",
       "</tbody>\n",
       "</table>\n"
      ],
      "text/latex": [
       "A data.frame: 6 × 20\n",
       "\\begin{tabular}{r|llllllllllllllllllll}\n",
       "  & STUDY\\_ID & grid & YEAR & coverage & species\\_richness & year\\_span & ABUNDANCE & BIOMASS & LATITUDE & LONGITUDE & PLOT & DEPTH & SAMPLE\\_DESC & GENUS\\_SPECIES & binomial & MaxLengthTL & Troph & TempPrefMean\\_imputed & genus & family\\\\\n",
       "  & <int> & <int> & <int> & <dbl> & <int> & <int> & <dbl> & <dbl> & <dbl> & <dbl> & <chr> & <dbl> & <chr> & <chr> & <chr> & <dbl> & <dbl> & <dbl> & <chr> & <chr>\\\\\n",
       "\\hline\n",
       "\t1 & 45 & 5269674 & 2006 & 0.8550883 & 220 & 9 & 1 &  22.40 & -17.5 & -149 & 1 & 0 & -17.5\\_-149\\_LTER\\_1\\_Backreef\\_Fish\\_Transect\\_1\\_Swath\\_5\\_m\\_12\\_7\\_2006      & Abudefduf septemfasciatus & Abudefduf septemfasciatus & 23 & 3.01 & 28.6 & Abudefduf & Pomacentridae\\\\\n",
       "\t2 & 45 & 5269674 & 2006 & 0.8550883 & 220 & 9 & 2 &  60.30 & -17.5 & -149 & 1 & 0 & -17.5\\_-149\\_LTER\\_1\\_Backreef\\_Fish\\_Transect\\_1\\_Swath\\_5\\_m\\_12\\_7\\_2006      & Abudefduf septemfasciatus & Abudefduf septemfasciatus & 23 & 3.01 & 28.6 & Abudefduf & Pomacentridae\\\\\n",
       "\t3 & 45 & 5269674 & 2006 & 0.8550883 & 220 & 9 & 1 &  22.40 & -17.5 & -149 & 4 & 0 & -17.5\\_-149\\_LTER\\_1\\_Backreef\\_Fish\\_Transect\\_4\\_Swath\\_5\\_m\\_12\\_7\\_2006      & Abudefduf septemfasciatus & Abudefduf septemfasciatus & 23 & 3.01 & 28.6 & Abudefduf & Pomacentridae\\\\\n",
       "\t4 & 45 & 5269674 & 2006 & 0.8550883 & 220 & 9 & 1 &  30.10 & -17.5 & -149 & 1 & 0 & -17.5\\_-149\\_LTER\\_3\\_Backreef\\_Fish\\_Transect\\_1\\_Swath\\_5\\_m\\_16\\_7\\_2006      & Abudefduf septemfasciatus & Abudefduf septemfasciatus & 23 & 3.01 & 28.6 & Abudefduf & Pomacentridae\\\\\n",
       "\t5 & 45 & 5269674 & 2006 & 0.8550883 & 220 & 9 & 1 & 140.90 & -17.5 & -149 & 2 & 0 & -17.5\\_-149\\_LTER\\_6\\_Fringing\\_Reef\\_Fish\\_Transect\\_2\\_Swath\\_5\\_m\\_12\\_7\\_2006 & Abudefduf septemfasciatus & Abudefduf septemfasciatus & 23 & 3.01 & 28.6 & Abudefduf & Pomacentridae\\\\\n",
       "\t6 & 45 & 5269674 & 2006 & 0.8550883 & 220 & 9 & 5 &  24.19 & -17.5 & -149 & 1 & 0 & -17.5\\_-149\\_LTER\\_1\\_Backreef\\_Fish\\_Transect\\_1\\_Swath\\_5\\_m\\_12\\_7\\_2006      & Abudefduf sexfasciatus    & Abudefduf sexfasciatus    & 19 & 2.70 & 28.4 & Abudefduf & Pomacentridae\\\\\n",
       "\\end{tabular}\n"
      ],
      "text/markdown": [
       "\n",
       "A data.frame: 6 × 20\n",
       "\n",
       "| <!--/--> | STUDY_ID &lt;int&gt; | grid &lt;int&gt; | YEAR &lt;int&gt; | coverage &lt;dbl&gt; | species_richness &lt;int&gt; | year_span &lt;int&gt; | ABUNDANCE &lt;dbl&gt; | BIOMASS &lt;dbl&gt; | LATITUDE &lt;dbl&gt; | LONGITUDE &lt;dbl&gt; | PLOT &lt;chr&gt; | DEPTH &lt;dbl&gt; | SAMPLE_DESC &lt;chr&gt; | GENUS_SPECIES &lt;chr&gt; | binomial &lt;chr&gt; | MaxLengthTL &lt;dbl&gt; | Troph &lt;dbl&gt; | TempPrefMean_imputed &lt;dbl&gt; | genus &lt;chr&gt; | family &lt;chr&gt; |\n",
       "|---|---|---|---|---|---|---|---|---|---|---|---|---|---|---|---|---|---|---|---|---|\n",
       "| 1 | 45 | 5269674 | 2006 | 0.8550883 | 220 | 9 | 1 |  22.40 | -17.5 | -149 | 1 | 0 | -17.5_-149_LTER_1_Backreef_Fish_Transect_1_Swath_5_m_12_7_2006      | Abudefduf septemfasciatus | Abudefduf septemfasciatus | 23 | 3.01 | 28.6 | Abudefduf | Pomacentridae |\n",
       "| 2 | 45 | 5269674 | 2006 | 0.8550883 | 220 | 9 | 2 |  60.30 | -17.5 | -149 | 1 | 0 | -17.5_-149_LTER_1_Backreef_Fish_Transect_1_Swath_5_m_12_7_2006      | Abudefduf septemfasciatus | Abudefduf septemfasciatus | 23 | 3.01 | 28.6 | Abudefduf | Pomacentridae |\n",
       "| 3 | 45 | 5269674 | 2006 | 0.8550883 | 220 | 9 | 1 |  22.40 | -17.5 | -149 | 4 | 0 | -17.5_-149_LTER_1_Backreef_Fish_Transect_4_Swath_5_m_12_7_2006      | Abudefduf septemfasciatus | Abudefduf septemfasciatus | 23 | 3.01 | 28.6 | Abudefduf | Pomacentridae |\n",
       "| 4 | 45 | 5269674 | 2006 | 0.8550883 | 220 | 9 | 1 |  30.10 | -17.5 | -149 | 1 | 0 | -17.5_-149_LTER_3_Backreef_Fish_Transect_1_Swath_5_m_16_7_2006      | Abudefduf septemfasciatus | Abudefduf septemfasciatus | 23 | 3.01 | 28.6 | Abudefduf | Pomacentridae |\n",
       "| 5 | 45 | 5269674 | 2006 | 0.8550883 | 220 | 9 | 1 | 140.90 | -17.5 | -149 | 2 | 0 | -17.5_-149_LTER_6_Fringing_Reef_Fish_Transect_2_Swath_5_m_12_7_2006 | Abudefduf septemfasciatus | Abudefduf septemfasciatus | 23 | 3.01 | 28.6 | Abudefduf | Pomacentridae |\n",
       "| 6 | 45 | 5269674 | 2006 | 0.8550883 | 220 | 9 | 5 |  24.19 | -17.5 | -149 | 1 | 0 | -17.5_-149_LTER_1_Backreef_Fish_Transect_1_Swath_5_m_12_7_2006      | Abudefduf sexfasciatus    | Abudefduf sexfasciatus    | 19 | 2.70 | 28.4 | Abudefduf | Pomacentridae |\n",
       "\n"
      ],
      "text/plain": [
       "  STUDY_ID grid    YEAR coverage  species_richness year_span ABUNDANCE BIOMASS\n",
       "1 45       5269674 2006 0.8550883 220              9         1          22.40 \n",
       "2 45       5269674 2006 0.8550883 220              9         2          60.30 \n",
       "3 45       5269674 2006 0.8550883 220              9         1          22.40 \n",
       "4 45       5269674 2006 0.8550883 220              9         1          30.10 \n",
       "5 45       5269674 2006 0.8550883 220              9         1         140.90 \n",
       "6 45       5269674 2006 0.8550883 220              9         5          24.19 \n",
       "  LATITUDE LONGITUDE PLOT DEPTH\n",
       "1 -17.5    -149      1    0    \n",
       "2 -17.5    -149      1    0    \n",
       "3 -17.5    -149      4    0    \n",
       "4 -17.5    -149      1    0    \n",
       "5 -17.5    -149      2    0    \n",
       "6 -17.5    -149      1    0    \n",
       "  SAMPLE_DESC                                                        \n",
       "1 -17.5_-149_LTER_1_Backreef_Fish_Transect_1_Swath_5_m_12_7_2006     \n",
       "2 -17.5_-149_LTER_1_Backreef_Fish_Transect_1_Swath_5_m_12_7_2006     \n",
       "3 -17.5_-149_LTER_1_Backreef_Fish_Transect_4_Swath_5_m_12_7_2006     \n",
       "4 -17.5_-149_LTER_3_Backreef_Fish_Transect_1_Swath_5_m_16_7_2006     \n",
       "5 -17.5_-149_LTER_6_Fringing_Reef_Fish_Transect_2_Swath_5_m_12_7_2006\n",
       "6 -17.5_-149_LTER_1_Backreef_Fish_Transect_1_Swath_5_m_12_7_2006     \n",
       "  GENUS_SPECIES             binomial                  MaxLengthTL Troph\n",
       "1 Abudefduf septemfasciatus Abudefduf septemfasciatus 23          3.01 \n",
       "2 Abudefduf septemfasciatus Abudefduf septemfasciatus 23          3.01 \n",
       "3 Abudefduf septemfasciatus Abudefduf septemfasciatus 23          3.01 \n",
       "4 Abudefduf septemfasciatus Abudefduf septemfasciatus 23          3.01 \n",
       "5 Abudefduf septemfasciatus Abudefduf septemfasciatus 23          3.01 \n",
       "6 Abudefduf sexfasciatus    Abudefduf sexfasciatus    19          2.70 \n",
       "  TempPrefMean_imputed genus     family       \n",
       "1 28.6                 Abudefduf Pomacentridae\n",
       "2 28.6                 Abudefduf Pomacentridae\n",
       "3 28.6                 Abudefduf Pomacentridae\n",
       "4 28.6                 Abudefduf Pomacentridae\n",
       "5 28.6                 Abudefduf Pomacentridae\n",
       "6 28.4                 Abudefduf Pomacentridae"
      ]
     },
     "metadata": {},
     "output_type": "display_data"
    }
   ],
   "source": [
    "biotime_traits <- left_join(biotime_selected, select(taxa_verified_table, ScientificName, binomial),\n",
    "                            by = c('GENUS_SPECIES' = 'ScientificName')) %>%\n",
    "    left_join(fishbase_traits_final, by = c('binomial' = 'Species'))\n",
    "biotime_traits$binomial <- coalesce(biotime_traits$binomial, biotime_traits$GENUS_SPECIES)\n",
    "head(biotime_traits)"
   ]
  },
  {
   "cell_type": "code",
   "execution_count": 183,
   "id": "603a68aa-f148-4a6a-ab18-fcd4e0a68ae1",
   "metadata": {
    "vscode": {
     "languageId": "r"
    }
   },
   "outputs": [],
   "source": [
    "fill_na_with_taxon_mean <- function(table){\n",
    "    # genus mean of traits\n",
    "    genus_table <- filter(table, !is.na(TempPrefMean_imputed)) %>%\n",
    "        group_by(genus) %>% summarise(MaxLengthTL_mean = mean(MaxLengthTL),\n",
    "                                     Troph_mean = mean(Troph),\n",
    "                                     temp_mean = mean(TempPrefMean_imputed)) %>% rename('taxon' = 'genus')\n",
    "    # family mean of traits\n",
    "    family_table <- filter(table, !is.na(TempPrefMean_imputed)) %>%\n",
    "        group_by(family) %>% summarise(MaxLengthTL_mean = mean(MaxLengthTL),\n",
    "                                     Troph_mean = mean(Troph),\n",
    "                                     temp_mean = mean(TempPrefMean_imputed)) %>% rename('taxon' = 'family')\n",
    "    taxon_temp <- rbind(genus_table, family_table)\n",
    "    # NA replace with the taxon from the same grid\n",
    "    result_table <- left_join(table, taxon_temp, by = c('binomial' = 'taxon')) %>%\n",
    "        mutate(TempPrefMean_imputed = coalesce(TempPrefMean_imputed, temp_mean),\n",
    "               Troph = coalesce(Troph, Troph_mean),\n",
    "               MaxLengthTL = coalesce(MaxLengthTL, MaxLengthTL_mean),\n",
    "               .keep = 'unused')\n",
    "    return(result_table)\n",
    "}"
   ]
  },
  {
   "cell_type": "code",
   "execution_count": 159,
   "id": "46ac7f88-3536-405f-935e-922b0fa6ed22",
   "metadata": {
    "vscode": {
     "languageId": "r"
    }
   },
   "outputs": [],
   "source": [
    "biotime_traits_imputed <- group_by(biotime_traits, STUDY_ID, grid) %>% group_split() %>% lapply(fill_na_with_taxon_mean)\n",
    "biotime_traits_imputed <- data.frame(Reduce(rbind, biotime_traits_imputed))"
   ]
  },
  {
   "cell_type": "code",
   "execution_count": 1,
   "id": "e3ce86a1-48a8-4df8-b95a-8793c775bb9f",
   "metadata": {
    "vscode": {
     "languageId": "r"
    }
   },
   "outputs": [
    {
     "ename": "ERROR",
     "evalue": "Error in summary(biotime_traits_imputed): object 'biotime_traits_imputed' not found\n",
     "output_type": "error",
     "traceback": [
      "Error in summary(biotime_traits_imputed): object 'biotime_traits_imputed' not found\nTraceback:\n",
      "1. summary(biotime_traits_imputed)"
     ]
    }
   ],
   "source": [
    "summary(biotime_traits_imputed)"
   ]
  },
  {
   "cell_type": "code",
   "execution_count": 167,
   "id": "ae5fe2cd-3cb9-4e51-bd6a-0c69d285ee5b",
   "metadata": {
    "vscode": {
     "languageId": "r"
    }
   },
   "outputs": [],
   "source": [
    "# write.csv(biotime_traits_imputed, 'biotime_traits_imputed.csv', row.names = F)"
   ]
  },
  {
   "cell_type": "markdown",
   "id": "1bd74323-5ef9-4610-87e5-dd1c1a7f17cc",
   "metadata": {},
   "source": [
    "## RLS"
   ]
  },
  {
   "cell_type": "code",
   "execution_count": 180,
   "id": "4b0e7fa6-e7af-4b67-963b-b1d5c0ff372a",
   "metadata": {
    "vscode": {
     "languageId": "r"
    }
   },
   "outputs": [
    {
     "data": {
      "text/html": [
       "<table class=\"dataframe\">\n",
       "<caption>A data.frame: 6 × 44</caption>\n",
       "<thead>\n",
       "\t<tr><th></th><th scope=col>grid</th><th scope=col>year</th><th scope=col>coverage</th><th scope=col>species_richness</th><th scope=col>year_span</th><th scope=col>FID</th><th scope=col>survey_id</th><th scope=col>country</th><th scope=col>area</th><th scope=col>ecoregion</th><th scope=col>⋯</th><th scope=col>geom</th><th scope=col>ymd</th><th scope=col>point_lon</th><th scope=col>point_lat</th><th scope=col>binomial</th><th scope=col>MaxLengthTL</th><th scope=col>Troph</th><th scope=col>TempPrefMean_imputed</th><th scope=col>genus</th><th scope=col>family</th></tr>\n",
       "\t<tr><th></th><th scope=col>&lt;int&gt;</th><th scope=col>&lt;int&gt;</th><th scope=col>&lt;dbl&gt;</th><th scope=col>&lt;int&gt;</th><th scope=col>&lt;int&gt;</th><th scope=col>&lt;chr&gt;</th><th scope=col>&lt;int&gt;</th><th scope=col>&lt;chr&gt;</th><th scope=col>&lt;chr&gt;</th><th scope=col>&lt;chr&gt;</th><th scope=col>⋯</th><th scope=col>&lt;chr&gt;</th><th scope=col>&lt;chr&gt;</th><th scope=col>&lt;dbl&gt;</th><th scope=col>&lt;dbl&gt;</th><th scope=col>&lt;chr&gt;</th><th scope=col>&lt;dbl&gt;</th><th scope=col>&lt;dbl&gt;</th><th scope=col>&lt;dbl&gt;</th><th scope=col>&lt;chr&gt;</th><th scope=col>&lt;chr&gt;</th></tr>\n",
       "</thead>\n",
       "<tbody>\n",
       "\t<tr><th scope=row>1</th><td>1083749</td><td>2015</td><td>0.9990102</td><td>29</td><td>5</td><td>ep_m1_public_data.fid--29c2dffb_17dfef00c04_-a17</td><td>912349440</td><td>Morocco</td><td>Morocco</td><td>Alboran Sea</td><td>⋯</td><td>POINT (-3.890000104904175 35.209999084472656)</td><td>2015-01-10</td><td>-3.89</td><td>35.21</td><td>Coris julis    </td><td>36.60</td><td>3.44</td><td>19.0</td><td>Coris     </td><td>Labridae</td></tr>\n",
       "\t<tr><th scope=row>2</th><td>1083749</td><td>2015</td><td>0.9990102</td><td>29</td><td>5</td><td>ep_m1_public_data.fid--29c2dffb_17dfef00c04_-a16</td><td>912349440</td><td>Morocco</td><td>Morocco</td><td>Alboran Sea</td><td>⋯</td><td>POINT (-3.890000104904175 35.209999084472656)</td><td>2015-01-10</td><td>-3.89</td><td>35.21</td><td>Coris julis    </td><td>36.60</td><td>3.44</td><td>19.0</td><td>Coris     </td><td>Labridae</td></tr>\n",
       "\t<tr><th scope=row>3</th><td>1083749</td><td>2015</td><td>0.9990102</td><td>29</td><td>5</td><td>ep_m1_public_data.fid--29c2dffb_17dfef00c04_-a15</td><td>912349440</td><td>Morocco</td><td>Morocco</td><td>Alboran Sea</td><td>⋯</td><td>POINT (-3.890000104904175 35.209999084472656)</td><td>2015-01-10</td><td>-3.89</td><td>35.21</td><td>Symphodus tinca</td><td>53.68</td><td>3.25</td><td>18.9</td><td>Symphodus </td><td>Labridae</td></tr>\n",
       "\t<tr><th scope=row>4</th><td>1083749</td><td>2015</td><td>0.9990102</td><td>29</td><td>5</td><td>ep_m1_public_data.fid--29c2dffb_17dfef00c04_-a14</td><td>912349440</td><td>Morocco</td><td>Morocco</td><td>Alboran Sea</td><td>⋯</td><td>POINT (-3.890000104904175 35.209999084472656)</td><td>2015-01-10</td><td>-3.89</td><td>35.21</td><td>Symphodus tinca</td><td>53.68</td><td>3.25</td><td>18.9</td><td>Symphodus </td><td>Labridae</td></tr>\n",
       "\t<tr><th scope=row>5</th><td>1083749</td><td>2015</td><td>0.9990102</td><td>29</td><td>5</td><td>ep_m1_public_data.fid--29c2dffb_17dfef00c04_-a13</td><td>912349440</td><td>Morocco</td><td>Morocco</td><td>Alboran Sea</td><td>⋯</td><td>POINT (-3.890000104904175 35.209999084472656)</td><td>2015-01-10</td><td>-3.89</td><td>35.21</td><td>Symphodus tinca</td><td>53.68</td><td>3.25</td><td>18.9</td><td>Symphodus </td><td>Labridae</td></tr>\n",
       "\t<tr><th scope=row>6</th><td>1083749</td><td>2015</td><td>0.9990102</td><td>29</td><td>5</td><td>ep_m1_public_data.fid--29c2dffb_17dfef00c04_-a12</td><td>912349440</td><td>Morocco</td><td>Morocco</td><td>Alboran Sea</td><td>⋯</td><td>POINT (-3.890000104904175 35.209999084472656)</td><td>2015-01-10</td><td>-3.89</td><td>35.21</td><td>Thalassoma pavo</td><td>30.50</td><td>3.50</td><td>18.7</td><td>Thalassoma</td><td>Labridae</td></tr>\n",
       "</tbody>\n",
       "</table>\n"
      ],
      "text/latex": [
       "A data.frame: 6 × 44\n",
       "\\begin{tabular}{r|lllllllllllllllllllll}\n",
       "  & grid & year & coverage & species\\_richness & year\\_span & FID & survey\\_id & country & area & ecoregion & ⋯ & geom & ymd & point\\_lon & point\\_lat & binomial & MaxLengthTL & Troph & TempPrefMean\\_imputed & genus & family\\\\\n",
       "  & <int> & <int> & <dbl> & <int> & <int> & <chr> & <int> & <chr> & <chr> & <chr> & ⋯ & <chr> & <chr> & <dbl> & <dbl> & <chr> & <dbl> & <dbl> & <dbl> & <chr> & <chr>\\\\\n",
       "\\hline\n",
       "\t1 & 1083749 & 2015 & 0.9990102 & 29 & 5 & ep\\_m1\\_public\\_data.fid--29c2dffb\\_17dfef00c04\\_-a17 & 912349440 & Morocco & Morocco & Alboran Sea & ⋯ & POINT (-3.890000104904175 35.209999084472656) & 2015-01-10 & -3.89 & 35.21 & Coris julis     & 36.60 & 3.44 & 19.0 & Coris      & Labridae\\\\\n",
       "\t2 & 1083749 & 2015 & 0.9990102 & 29 & 5 & ep\\_m1\\_public\\_data.fid--29c2dffb\\_17dfef00c04\\_-a16 & 912349440 & Morocco & Morocco & Alboran Sea & ⋯ & POINT (-3.890000104904175 35.209999084472656) & 2015-01-10 & -3.89 & 35.21 & Coris julis     & 36.60 & 3.44 & 19.0 & Coris      & Labridae\\\\\n",
       "\t3 & 1083749 & 2015 & 0.9990102 & 29 & 5 & ep\\_m1\\_public\\_data.fid--29c2dffb\\_17dfef00c04\\_-a15 & 912349440 & Morocco & Morocco & Alboran Sea & ⋯ & POINT (-3.890000104904175 35.209999084472656) & 2015-01-10 & -3.89 & 35.21 & Symphodus tinca & 53.68 & 3.25 & 18.9 & Symphodus  & Labridae\\\\\n",
       "\t4 & 1083749 & 2015 & 0.9990102 & 29 & 5 & ep\\_m1\\_public\\_data.fid--29c2dffb\\_17dfef00c04\\_-a14 & 912349440 & Morocco & Morocco & Alboran Sea & ⋯ & POINT (-3.890000104904175 35.209999084472656) & 2015-01-10 & -3.89 & 35.21 & Symphodus tinca & 53.68 & 3.25 & 18.9 & Symphodus  & Labridae\\\\\n",
       "\t5 & 1083749 & 2015 & 0.9990102 & 29 & 5 & ep\\_m1\\_public\\_data.fid--29c2dffb\\_17dfef00c04\\_-a13 & 912349440 & Morocco & Morocco & Alboran Sea & ⋯ & POINT (-3.890000104904175 35.209999084472656) & 2015-01-10 & -3.89 & 35.21 & Symphodus tinca & 53.68 & 3.25 & 18.9 & Symphodus  & Labridae\\\\\n",
       "\t6 & 1083749 & 2015 & 0.9990102 & 29 & 5 & ep\\_m1\\_public\\_data.fid--29c2dffb\\_17dfef00c04\\_-a12 & 912349440 & Morocco & Morocco & Alboran Sea & ⋯ & POINT (-3.890000104904175 35.209999084472656) & 2015-01-10 & -3.89 & 35.21 & Thalassoma pavo & 30.50 & 3.50 & 18.7 & Thalassoma & Labridae\\\\\n",
       "\\end{tabular}\n"
      ],
      "text/markdown": [
       "\n",
       "A data.frame: 6 × 44\n",
       "\n",
       "| <!--/--> | grid &lt;int&gt; | year &lt;int&gt; | coverage &lt;dbl&gt; | species_richness &lt;int&gt; | year_span &lt;int&gt; | FID &lt;chr&gt; | survey_id &lt;int&gt; | country &lt;chr&gt; | area &lt;chr&gt; | ecoregion &lt;chr&gt; | ⋯ ⋯ | geom &lt;chr&gt; | ymd &lt;chr&gt; | point_lon &lt;dbl&gt; | point_lat &lt;dbl&gt; | binomial &lt;chr&gt; | MaxLengthTL &lt;dbl&gt; | Troph &lt;dbl&gt; | TempPrefMean_imputed &lt;dbl&gt; | genus &lt;chr&gt; | family &lt;chr&gt; |\n",
       "|---|---|---|---|---|---|---|---|---|---|---|---|---|---|---|---|---|---|---|---|---|---|\n",
       "| 1 | 1083749 | 2015 | 0.9990102 | 29 | 5 | ep_m1_public_data.fid--29c2dffb_17dfef00c04_-a17 | 912349440 | Morocco | Morocco | Alboran Sea | ⋯ | POINT (-3.890000104904175 35.209999084472656) | 2015-01-10 | -3.89 | 35.21 | Coris julis     | 36.60 | 3.44 | 19.0 | Coris      | Labridae |\n",
       "| 2 | 1083749 | 2015 | 0.9990102 | 29 | 5 | ep_m1_public_data.fid--29c2dffb_17dfef00c04_-a16 | 912349440 | Morocco | Morocco | Alboran Sea | ⋯ | POINT (-3.890000104904175 35.209999084472656) | 2015-01-10 | -3.89 | 35.21 | Coris julis     | 36.60 | 3.44 | 19.0 | Coris      | Labridae |\n",
       "| 3 | 1083749 | 2015 | 0.9990102 | 29 | 5 | ep_m1_public_data.fid--29c2dffb_17dfef00c04_-a15 | 912349440 | Morocco | Morocco | Alboran Sea | ⋯ | POINT (-3.890000104904175 35.209999084472656) | 2015-01-10 | -3.89 | 35.21 | Symphodus tinca | 53.68 | 3.25 | 18.9 | Symphodus  | Labridae |\n",
       "| 4 | 1083749 | 2015 | 0.9990102 | 29 | 5 | ep_m1_public_data.fid--29c2dffb_17dfef00c04_-a14 | 912349440 | Morocco | Morocco | Alboran Sea | ⋯ | POINT (-3.890000104904175 35.209999084472656) | 2015-01-10 | -3.89 | 35.21 | Symphodus tinca | 53.68 | 3.25 | 18.9 | Symphodus  | Labridae |\n",
       "| 5 | 1083749 | 2015 | 0.9990102 | 29 | 5 | ep_m1_public_data.fid--29c2dffb_17dfef00c04_-a13 | 912349440 | Morocco | Morocco | Alboran Sea | ⋯ | POINT (-3.890000104904175 35.209999084472656) | 2015-01-10 | -3.89 | 35.21 | Symphodus tinca | 53.68 | 3.25 | 18.9 | Symphodus  | Labridae |\n",
       "| 6 | 1083749 | 2015 | 0.9990102 | 29 | 5 | ep_m1_public_data.fid--29c2dffb_17dfef00c04_-a12 | 912349440 | Morocco | Morocco | Alboran Sea | ⋯ | POINT (-3.890000104904175 35.209999084472656) | 2015-01-10 | -3.89 | 35.21 | Thalassoma pavo | 30.50 | 3.50 | 18.7 | Thalassoma | Labridae |\n",
       "\n"
      ],
      "text/plain": [
       "  grid    year coverage  species_richness year_span\n",
       "1 1083749 2015 0.9990102 29               5        \n",
       "2 1083749 2015 0.9990102 29               5        \n",
       "3 1083749 2015 0.9990102 29               5        \n",
       "4 1083749 2015 0.9990102 29               5        \n",
       "5 1083749 2015 0.9990102 29               5        \n",
       "6 1083749 2015 0.9990102 29               5        \n",
       "  FID                                              survey_id country area   \n",
       "1 ep_m1_public_data.fid--29c2dffb_17dfef00c04_-a17 912349440 Morocco Morocco\n",
       "2 ep_m1_public_data.fid--29c2dffb_17dfef00c04_-a16 912349440 Morocco Morocco\n",
       "3 ep_m1_public_data.fid--29c2dffb_17dfef00c04_-a15 912349440 Morocco Morocco\n",
       "4 ep_m1_public_data.fid--29c2dffb_17dfef00c04_-a14 912349440 Morocco Morocco\n",
       "5 ep_m1_public_data.fid--29c2dffb_17dfef00c04_-a13 912349440 Morocco Morocco\n",
       "6 ep_m1_public_data.fid--29c2dffb_17dfef00c04_-a12 912349440 Morocco Morocco\n",
       "  ecoregion   ⋯ geom                                          ymd       \n",
       "1 Alboran Sea ⋯ POINT (-3.890000104904175 35.209999084472656) 2015-01-10\n",
       "2 Alboran Sea ⋯ POINT (-3.890000104904175 35.209999084472656) 2015-01-10\n",
       "3 Alboran Sea ⋯ POINT (-3.890000104904175 35.209999084472656) 2015-01-10\n",
       "4 Alboran Sea ⋯ POINT (-3.890000104904175 35.209999084472656) 2015-01-10\n",
       "5 Alboran Sea ⋯ POINT (-3.890000104904175 35.209999084472656) 2015-01-10\n",
       "6 Alboran Sea ⋯ POINT (-3.890000104904175 35.209999084472656) 2015-01-10\n",
       "  point_lon point_lat binomial        MaxLengthTL Troph TempPrefMean_imputed\n",
       "1 -3.89     35.21     Coris julis     36.60       3.44  19.0                \n",
       "2 -3.89     35.21     Coris julis     36.60       3.44  19.0                \n",
       "3 -3.89     35.21     Symphodus tinca 53.68       3.25  18.9                \n",
       "4 -3.89     35.21     Symphodus tinca 53.68       3.25  18.9                \n",
       "5 -3.89     35.21     Symphodus tinca 53.68       3.25  18.9                \n",
       "6 -3.89     35.21     Thalassoma pavo 30.50       3.50  18.7                \n",
       "  genus      family  \n",
       "1 Coris      Labridae\n",
       "2 Coris      Labridae\n",
       "3 Symphodus  Labridae\n",
       "4 Symphodus  Labridae\n",
       "5 Symphodus  Labridae\n",
       "6 Thalassoma Labridae"
      ]
     },
     "metadata": {},
     "output_type": "display_data"
    }
   ],
   "source": [
    "rls_traits <- left_join(rls_selected, select(taxa_verified_table, ScientificName, binomial),\n",
    "                            by = c('species_name' = 'ScientificName')) %>%\n",
    "    rename(family_origin = family) %>% \n",
    "    left_join(fishbase_traits_final, by = c('binomial' = 'Species'))\n",
    "rls_traits$binomial <- coalesce(rls_traits$binomial, rls_traits$species_name)\n",
    "head(rls_traits)"
   ]
  },
  {
   "cell_type": "code",
   "execution_count": null,
   "id": "99eef69e-94c6-4ba3-993c-fd36d8088b6f",
   "metadata": {
    "vscode": {
     "languageId": "r"
    }
   },
   "outputs": [],
   "source": [
    "colnames(rls_traits)"
   ]
  },
  {
   "cell_type": "code",
   "execution_count": 193,
   "id": "87bbdf80-1b02-4d88-8787-298dac9c3028",
   "metadata": {
    "vscode": {
     "languageId": "r"
    }
   },
   "outputs": [],
   "source": [
    "rls_traits_imputed <- group_by(rls_traits, grid) %>% group_split() %>% lapply(fill_na_with_taxon_mean)\n",
    "rls_traits_imputed <- data.frame(Reduce(rbind, rls_traits_imputed))"
   ]
  },
  {
   "cell_type": "code",
   "execution_count": 194,
   "id": "6eadc48f-a888-4c16-8017-9703e39ccc9d",
   "metadata": {
    "vscode": {
     "languageId": "r"
    }
   },
   "outputs": [],
   "source": [
    "write.csv(rls_traits_imputed, 'rls_traits_imputed.csv', row.names = F)"
   ]
  },
  {
   "cell_type": "code",
   "execution_count": 195,
   "id": "9f8838f4-601f-44c7-901b-3fce8307d1f3",
   "metadata": {
    "vscode": {
     "languageId": "r"
    }
   },
   "outputs": [
    {
     "data": {
      "text/plain": [
       "      grid              year         coverage      species_richness\n",
       " Min.   :1083749   Min.   :1992   Min.   :0.8504   Min.   :  4.0   \n",
       " 1st Qu.:4544794   1st Qu.:2010   1st Qu.:0.9427   1st Qu.: 54.0   \n",
       " Median :4633047   Median :2014   Median :0.9610   Median :112.0   \n",
       " Mean   :4562592   Mean   :2013   Mean   :0.9534   Mean   :115.9   \n",
       " 3rd Qu.:4651315   3rd Qu.:2018   3rd Qu.:0.9747   3rd Qu.:169.0   \n",
       " Max.   :5120011   Max.   :2021   Max.   :1.0000   Max.   :270.0   \n",
       "                                                                   \n",
       "   year_span         FID              survey_id           country         \n",
       " Min.   : 5.00   Length:1098878     Min.   :  2000854   Length:1098878    \n",
       " 1st Qu.: 8.00   Class :character   1st Qu.:812310114   Class :character  \n",
       " Median :13.00   Mode  :character   Median :912344193   Mode  :character  \n",
       " Mean   :13.93                      Mean   :735680543                     \n",
       " 3rd Qu.:16.00                      3rd Qu.:912350593                     \n",
       " Max.   :29.00                      Max.   :923400668                     \n",
       "                                                                          \n",
       "     area            ecoregion            realm             location        \n",
       " Length:1098878     Length:1098878     Length:1098878     Length:1098878    \n",
       " Class :character   Class :character   Class :character   Class :character  \n",
       " Mode  :character   Mode  :character   Mode  :character   Mode  :character  \n",
       "                                                                            \n",
       "                                                                            \n",
       "                                                                            \n",
       "                                                                            \n",
       "  site_code          site_name            latitude        longitude     \n",
       " Length:1098878     Length:1098878     Min.   :-43.63   Min.   :-169.9  \n",
       " Class :character   Class :character   1st Qu.:-35.12   1st Qu.: 138.3  \n",
       " Mode  :character   Mode  :character   Median :-32.02   Median : 148.8  \n",
       "                                       Mean   :-28.37   Mean   : 140.0  \n",
       "                                       3rd Qu.:-20.61   3rd Qu.: 151.3  \n",
       "                                       Max.   : 35.38   Max.   : 168.0  \n",
       "                                                                        \n",
       " survey_date            depth          program            visibility    \n",
       " Length:1098878     Min.   : 0.000   Length:1098878     Min.   : 1.0    \n",
       " Class :character   1st Qu.: 5.000   Class :character   1st Qu.: 8.0    \n",
       " Mode  :character   Median : 5.400   Mode  :character   Median :12.0    \n",
       "                    Mean   : 6.779                      Mean   :14.6    \n",
       "                    3rd Qu.: 9.000                      3rd Qu.:20.0    \n",
       "                    Max.   :42.000                      Max.   :60.0    \n",
       "                                                        NA's   :195532  \n",
       "     hour           survey_latitude   survey_longitude      method     \n",
       " Length:1098878     Min.   :-43.4     Min.   :-158.1    Min.   : 1.00  \n",
       " Class :character   1st Qu.:-34.9     1st Qu.: 123.1    1st Qu.: 1.00  \n",
       " Mode  :character   Median :-23.1     Median : 144.7    Median : 1.00  \n",
       "                    Mean   :-23.1     Mean   : 134.4    Mean   : 1.07  \n",
       "                    3rd Qu.:-12.8     3rd Qu.: 150.3    3rd Qu.: 1.00  \n",
       "                    Max.   : 35.3     Max.   : 159.1    Max.   :10.00  \n",
       "                    NA's   :1001893   NA's   :1001893                  \n",
       "     block          phylum             class              order          \n",
       " Min.   :1.000   Length:1098878     Length:1098878     Length:1098878    \n",
       " 1st Qu.:1.000   Class :character   Class :character   Class :character  \n",
       " Median :1.000   Mode  :character   Mode  :character   Mode  :character  \n",
       " Mean   :1.485                                                           \n",
       " 3rd Qu.:2.000                                                           \n",
       " Max.   :2.000                                                           \n",
       "                                                                         \n",
       " family_origin      species_name       reporting_name       size_class    \n",
       " Length:1098878     Length:1098878     Length:1098878     Min.   :  0.00  \n",
       " Class :character   Class :character   Class :character   1st Qu.:  7.50  \n",
       " Mode  :character   Mode  :character   Mode  :character   Median : 12.50  \n",
       "                                                          Mean   : 14.99  \n",
       "                                                          3rd Qu.: 20.00  \n",
       "                                                          Max.   :400.00  \n",
       "                                                                          \n",
       "     total              biomass              geom               ymd           \n",
       " Min.   :     0.00   Min.   :      0.0   Length:1098878     Length:1098878    \n",
       " 1st Qu.:     1.00   1st Qu.:     27.0   Class :character   Class :character  \n",
       " Median :     2.00   Median :    118.1   Mode  :character   Mode  :character  \n",
       " Mean   :    13.11   Mean   :    827.5                                        \n",
       " 3rd Qu.:     5.00   3rd Qu.:    405.9                                        \n",
       " Max.   :197287.00   Max.   :2206551.8                                        \n",
       "                     NA's   :16499                                            \n",
       "   point_lon        point_lat        binomial          MaxLengthTL    \n",
       " Min.   :-169.9   Min.   :-43.63   Length:1098878     Min.   :  1.83  \n",
       " 1st Qu.: 138.3   1st Qu.:-35.12   Class :character   1st Qu.: 15.00  \n",
       " Median : 148.8   Median :-32.02   Mode  :character   Median : 28.06  \n",
       " Mean   : 140.0   Mean   :-28.37                      Mean   : 33.94  \n",
       " 3rd Qu.: 151.3   3rd Qu.:-20.61                      3rd Qu.: 45.00  \n",
       " Max.   : 168.0   Max.   : 35.38                      Max.   :750.00  \n",
       "                                                      NA's   :3291    \n",
       "     Troph       TempPrefMean_imputed    genus              family         \n",
       " Min.   :2.000   Min.   : 5.70        Length:1098878     Length:1098878    \n",
       " 1st Qu.:2.760   1st Qu.:17.90        Class :character   Class :character  \n",
       " Median :3.390   Median :24.10        Mode  :character   Mode  :character  \n",
       " Mean   :3.183   Mean   :22.97                                             \n",
       " 3rd Qu.:3.540   3rd Qu.:27.80                                             \n",
       " Max.   :4.700   Max.   :28.90                                             \n",
       " NA's   :3291    NA's   :3291                                              "
      ]
     },
     "metadata": {},
     "output_type": "display_data"
    }
   ],
   "source": [
    "summary(rls_traits_imputed)"
   ]
  },
  {
   "cell_type": "markdown",
   "id": "ce7bdb59-d964-49eb-98ba-fed89e639518",
   "metadata": {},
   "source": [
    "## obis"
   ]
  },
  {
   "cell_type": "code",
   "execution_count": 213,
   "id": "f99a5c1b-c3be-4c64-9a1b-dd06e6351f7f",
   "metadata": {
    "vscode": {
     "languageId": "r"
    }
   },
   "outputs": [
    {
     "data": {
      "text/html": [
       "<style>\n",
       ".list-inline {list-style: none; margin:0; padding: 0}\n",
       ".list-inline>li {display: inline-block}\n",
       ".list-inline>li:not(:last-child)::after {content: \"\\00b7\"; padding: 0 .5ex}\n",
       "</style>\n",
       "<ol class=list-inline><li>'Abundance of Rocky Reef Fishes, Invertebrates and Algae, Reef Check California (RCCA), 2006 - 2017.csv'</li><li>'Australian Institute of Marine Science (AIMS) - Baited Remote Underwater Video Station (BRUVS), Australia (1999 to present).csv'</li><li>'Australian Institute of Marine Science (AIMS) Long-term Monitoring Program: Visual Census Fish Data (Great Barrier Reef), Australia (1992 to present).csv'</li><li>'Australian Museums Lizard Island Research Station, Queensland, Australia (1900 - 2018).csv'</li><li>'Bottom Trawl Surveys: Catch and Effort Data For South East Australia, 1898-1996.csv'</li><li>'Canadian Field-Naturalist: Fishes stranded during extreme Iow tides in Minas Basin, Nova Scotia.csv'</li></ol>\n"
      ],
      "text/latex": [
       "\\begin{enumerate*}\n",
       "\\item 'Abundance of Rocky Reef Fishes, Invertebrates and Algae, Reef Check California (RCCA), 2006 - 2017.csv'\n",
       "\\item 'Australian Institute of Marine Science (AIMS) - Baited Remote Underwater Video Station (BRUVS), Australia (1999 to present).csv'\n",
       "\\item 'Australian Institute of Marine Science (AIMS) Long-term Monitoring Program: Visual Census Fish Data (Great Barrier Reef), Australia (1992 to present).csv'\n",
       "\\item 'Australian Museums Lizard Island Research Station, Queensland, Australia (1900 - 2018).csv'\n",
       "\\item 'Bottom Trawl Surveys: Catch and Effort Data For South East Australia, 1898-1996.csv'\n",
       "\\item 'Canadian Field-Naturalist: Fishes stranded during extreme Iow tides in Minas Basin, Nova Scotia.csv'\n",
       "\\end{enumerate*}\n"
      ],
      "text/markdown": [
       "1. 'Abundance of Rocky Reef Fishes, Invertebrates and Algae, Reef Check California (RCCA), 2006 - 2017.csv'\n",
       "2. 'Australian Institute of Marine Science (AIMS) - Baited Remote Underwater Video Station (BRUVS), Australia (1999 to present).csv'\n",
       "3. 'Australian Institute of Marine Science (AIMS) Long-term Monitoring Program: Visual Census Fish Data (Great Barrier Reef), Australia (1992 to present).csv'\n",
       "4. 'Australian Museums Lizard Island Research Station, Queensland, Australia (1900 - 2018).csv'\n",
       "5. 'Bottom Trawl Surveys: Catch and Effort Data For South East Australia, 1898-1996.csv'\n",
       "6. 'Canadian Field-Naturalist: Fishes stranded during extreme Iow tides in Minas Basin, Nova Scotia.csv'\n",
       "\n",
       "\n"
      ],
      "text/plain": [
       "[1] \"Abundance of Rocky Reef Fishes, Invertebrates and Algae, Reef Check California (RCCA), 2006 - 2017.csv\"                                                   \n",
       "[2] \"Australian Institute of Marine Science (AIMS) - Baited Remote Underwater Video Station (BRUVS), Australia (1999 to present).csv\"                          \n",
       "[3] \"Australian Institute of Marine Science (AIMS) Long-term Monitoring Program: Visual Census Fish Data (Great Barrier Reef), Australia (1992 to present).csv\"\n",
       "[4] \"Australian Museums Lizard Island Research Station, Queensland, Australia (1900 - 2018).csv\"                                                               \n",
       "[5] \"Bottom Trawl Surveys: Catch and Effort Data For South East Australia, 1898-1996.csv\"                                                                      \n",
       "[6] \"Canadian Field-Naturalist: Fishes stranded during extreme Iow tides in Minas Basin, Nova Scotia.csv\"                                                      "
      ]
     },
     "metadata": {},
     "output_type": "display_data"
    }
   ],
   "source": [
    "obis_data_files <- list.files('obis_download/data_coverage/data_slim/')\n",
    "head(obis_data_files)"
   ]
  },
  {
   "cell_type": "code",
   "execution_count": 248,
   "id": "8573a182-c5fa-4263-a92e-8fe074bdb501",
   "metadata": {
    "vscode": {
     "languageId": "r"
    }
   },
   "outputs": [],
   "source": [
    "# bind datasets\n",
    "obis_data <- data.frame()\n",
    "for (i in obis_data_files){\n",
    "    data <- read.csv(paste0('obis_download/data_coverage/data_slim/', i))\n",
    "    meta <- read.csv(paste0('obis_download/data_coverage/sample_table/', i))\n",
    "    meta_selected <- filter(meta, year_span > 4, coverage >= 0.85)\n",
    "    data_filtered <- filter(data, grid %in% meta_selected$grid, date_year %in% meta_selected$date_year) %>% \n",
    "        mutate(dataset_name = rep(i, nrow(.)))\n",
    "    obis_data <- bind_rows(obis_data, data_filtered)\n",
    "}"
   ]
  },
  {
   "cell_type": "markdown",
   "id": "651f70bc-ff01-4fbc-a9ca-9a79da018849",
   "metadata": {},
   "source": [
    "### delete datasets with too much NA abundance"
   ]
  },
  {
   "cell_type": "code",
   "execution_count": 249,
   "id": "0bea86dc-0651-4990-8756-77d3bac99f6d",
   "metadata": {
    "vscode": {
     "languageId": "r"
    }
   },
   "outputs": [
    {
     "data": {
      "text/html": [
       "<table class=\"dataframe\">\n",
       "<caption>A data.frame: 6 × 3</caption>\n",
       "<thead>\n",
       "\t<tr><th></th><th scope=col>dataset_name</th><th scope=col>Freq</th><th scope=col>path</th></tr>\n",
       "\t<tr><th></th><th scope=col>&lt;fct&gt;</th><th scope=col>&lt;int&gt;</th><th scope=col>&lt;chr&gt;</th></tr>\n",
       "</thead>\n",
       "<tbody>\n",
       "\t<tr><th scope=row>1</th><td>Bottom Trawl Surveys: Catch and Effort Data For South East Australia, 1898-1996.csv                              </td><td>  614</td><td>obis_download/data_coverage/data_slim/Bottom Trawl Surveys: Catch and Effort Data For South East Australia, 1898-1996.csv                              </td></tr>\n",
       "\t<tr><th scope=row>2</th><td>Catch data from New Zealand research trawls since 2008.csv                                                       </td><td>  646</td><td>obis_download/data_coverage/data_slim/Catch data from New Zealand research trawls since 2008.csv                                                       </td></tr>\n",
       "\t<tr><th scope=row>3</th><td>CSIRO, North West Shelf Demersal Marine Resources Study 1980-1997.csv                                            </td><td>59757</td><td>obis_download/data_coverage/data_slim/CSIRO, North West Shelf Demersal Marine Resources Study 1980-1997.csv                                            </td></tr>\n",
       "\t<tr><th scope=row>4</th><td>CSIRO, Soviet Fishery Data, Australia, 1965-1978.csv                                                             </td><td> 7516</td><td>obis_download/data_coverage/data_slim/CSIRO, Soviet Fishery Data, Australia, 1965-1978.csv                                                             </td></tr>\n",
       "\t<tr><th scope=row>5</th><td>Epibenthos and demersal fish monitoring at long-term monitoring stations in the Belgian part of the North Sea.csv</td><td>  586</td><td>obis_download/data_coverage/data_slim/Epibenthos and demersal fish monitoring at long-term monitoring stations in the Belgian part of the North Sea.csv</td></tr>\n",
       "\t<tr><th scope=row>6</th><td>ICES Baltic International Trawl Survey for commercial fish species.csv                                           </td><td>  271</td><td>obis_download/data_coverage/data_slim/ICES Baltic International Trawl Survey for commercial fish species.csv                                           </td></tr>\n",
       "</tbody>\n",
       "</table>\n"
      ],
      "text/latex": [
       "A data.frame: 6 × 3\n",
       "\\begin{tabular}{r|lll}\n",
       "  & dataset\\_name & Freq & path\\\\\n",
       "  & <fct> & <int> & <chr>\\\\\n",
       "\\hline\n",
       "\t1 & Bottom Trawl Surveys: Catch and Effort Data For South East Australia, 1898-1996.csv                               &   614 & obis\\_download/data\\_coverage/data\\_slim/Bottom Trawl Surveys: Catch and Effort Data For South East Australia, 1898-1996.csv                              \\\\\n",
       "\t2 & Catch data from New Zealand research trawls since 2008.csv                                                        &   646 & obis\\_download/data\\_coverage/data\\_slim/Catch data from New Zealand research trawls since 2008.csv                                                       \\\\\n",
       "\t3 & CSIRO, North West Shelf Demersal Marine Resources Study 1980-1997.csv                                             & 59757 & obis\\_download/data\\_coverage/data\\_slim/CSIRO, North West Shelf Demersal Marine Resources Study 1980-1997.csv                                            \\\\\n",
       "\t4 & CSIRO, Soviet Fishery Data, Australia, 1965-1978.csv                                                              &  7516 & obis\\_download/data\\_coverage/data\\_slim/CSIRO, Soviet Fishery Data, Australia, 1965-1978.csv                                                             \\\\\n",
       "\t5 & Epibenthos and demersal fish monitoring at long-term monitoring stations in the Belgian part of the North Sea.csv &   586 & obis\\_download/data\\_coverage/data\\_slim/Epibenthos and demersal fish monitoring at long-term monitoring stations in the Belgian part of the North Sea.csv\\\\\n",
       "\t6 & ICES Baltic International Trawl Survey for commercial fish species.csv                                            &   271 & obis\\_download/data\\_coverage/data\\_slim/ICES Baltic International Trawl Survey for commercial fish species.csv                                           \\\\\n",
       "\\end{tabular}\n"
      ],
      "text/markdown": [
       "\n",
       "A data.frame: 6 × 3\n",
       "\n",
       "| <!--/--> | dataset_name &lt;fct&gt; | Freq &lt;int&gt; | path &lt;chr&gt; |\n",
       "|---|---|---|---|\n",
       "| 1 | Bottom Trawl Surveys: Catch and Effort Data For South East Australia, 1898-1996.csv                               |   614 | obis_download/data_coverage/data_slim/Bottom Trawl Surveys: Catch and Effort Data For South East Australia, 1898-1996.csv                               |\n",
       "| 2 | Catch data from New Zealand research trawls since 2008.csv                                                        |   646 | obis_download/data_coverage/data_slim/Catch data from New Zealand research trawls since 2008.csv                                                        |\n",
       "| 3 | CSIRO, North West Shelf Demersal Marine Resources Study 1980-1997.csv                                             | 59757 | obis_download/data_coverage/data_slim/CSIRO, North West Shelf Demersal Marine Resources Study 1980-1997.csv                                             |\n",
       "| 4 | CSIRO, Soviet Fishery Data, Australia, 1965-1978.csv                                                              |  7516 | obis_download/data_coverage/data_slim/CSIRO, Soviet Fishery Data, Australia, 1965-1978.csv                                                              |\n",
       "| 5 | Epibenthos and demersal fish monitoring at long-term monitoring stations in the Belgian part of the North Sea.csv |   586 | obis_download/data_coverage/data_slim/Epibenthos and demersal fish monitoring at long-term monitoring stations in the Belgian part of the North Sea.csv |\n",
       "| 6 | ICES Baltic International Trawl Survey for commercial fish species.csv                                            |   271 | obis_download/data_coverage/data_slim/ICES Baltic International Trawl Survey for commercial fish species.csv                                            |\n",
       "\n"
      ],
      "text/plain": [
       "  dataset_name                                                                                                     \n",
       "1 Bottom Trawl Surveys: Catch and Effort Data For South East Australia, 1898-1996.csv                              \n",
       "2 Catch data from New Zealand research trawls since 2008.csv                                                       \n",
       "3 CSIRO, North West Shelf Demersal Marine Resources Study 1980-1997.csv                                            \n",
       "4 CSIRO, Soviet Fishery Data, Australia, 1965-1978.csv                                                             \n",
       "5 Epibenthos and demersal fish monitoring at long-term monitoring stations in the Belgian part of the North Sea.csv\n",
       "6 ICES Baltic International Trawl Survey for commercial fish species.csv                                           \n",
       "  Freq \n",
       "1   614\n",
       "2   646\n",
       "3 59757\n",
       "4  7516\n",
       "5   586\n",
       "6   271\n",
       "  path                                                                                                                                                   \n",
       "1 obis_download/data_coverage/data_slim/Bottom Trawl Surveys: Catch and Effort Data For South East Australia, 1898-1996.csv                              \n",
       "2 obis_download/data_coverage/data_slim/Catch data from New Zealand research trawls since 2008.csv                                                       \n",
       "3 obis_download/data_coverage/data_slim/CSIRO, North West Shelf Demersal Marine Resources Study 1980-1997.csv                                            \n",
       "4 obis_download/data_coverage/data_slim/CSIRO, Soviet Fishery Data, Australia, 1965-1978.csv                                                             \n",
       "5 obis_download/data_coverage/data_slim/Epibenthos and demersal fish monitoring at long-term monitoring stations in the Belgian part of the North Sea.csv\n",
       "6 obis_download/data_coverage/data_slim/ICES Baltic International Trawl Survey for commercial fish species.csv                                           "
      ]
     },
     "metadata": {},
     "output_type": "display_data"
    }
   ],
   "source": [
    "# NA values distribution of 'abundance'\n",
    "na_abund_table <- mutate(obis_data, abundance = na_if(abundance, -9), abundance = na_if(abundance, 0)) %>%\n",
    "    filter(is.na(abundance)) %>%\n",
    "    pull(dataset_name) %>%\n",
    "    table() %>% as.data.frame()\n",
    "colnames(na_abund_table) <- c('dataset_name', 'Freq')\n",
    "na_abund_table$path <- paste0('obis_download/data_coverage/data_slim/', na_abund_table$dataset_name)\n",
    "head(na_abund_table)"
   ]
  },
  {
   "cell_type": "code",
   "execution_count": 250,
   "id": "bd9b58d7-6065-478d-81c0-0028515410c5",
   "metadata": {
    "vscode": {
     "languageId": "r"
    }
   },
   "outputs": [],
   "source": [
    "na_abund_table$observation_num <- lapply(na_abund_table$path, read.csv) %>% lapply(nrow) %>% unlist()\n",
    "na_abund_table <- mutate(na_abund_table, na_percent = Freq/observation_num)"
   ]
  },
  {
   "cell_type": "code",
   "execution_count": 251,
   "id": "17c8309c-123d-4f4b-8932-7d1d8a4a0602",
   "metadata": {
    "vscode": {
     "languageId": "r"
    }
   },
   "outputs": [
    {
     "data": {
      "text/html": [
       "<table class=\"dataframe\">\n",
       "<caption>A data.frame: 22 × 5</caption>\n",
       "<thead>\n",
       "\t<tr><th scope=col>dataset_name</th><th scope=col>Freq</th><th scope=col>path</th><th scope=col>observation_num</th><th scope=col>na_percent</th></tr>\n",
       "\t<tr><th scope=col>&lt;fct&gt;</th><th scope=col>&lt;int&gt;</th><th scope=col>&lt;chr&gt;</th><th scope=col>&lt;int&gt;</th><th scope=col>&lt;dbl&gt;</th></tr>\n",
       "</thead>\n",
       "<tbody>\n",
       "\t<tr><td>Bottom Trawl Surveys: Catch and Effort Data For South East Australia, 1898-1996.csv                                                                                                              </td><td>    614</td><td>obis_download/data_coverage/data_slim/Bottom Trawl Surveys: Catch and Effort Data For South East Australia, 1898-1996.csv                                                                                                              </td><td>  13820</td><td>4.442836e-02</td></tr>\n",
       "\t<tr><td>Catch data from New Zealand research trawls since 2008.csv                                                                                                                                       </td><td>    646</td><td>obis_download/data_coverage/data_slim/Catch data from New Zealand research trawls since 2008.csv                                                                                                                                       </td><td>  92707</td><td>6.968190e-03</td></tr>\n",
       "\t<tr><td>CSIRO, North West Shelf Demersal Marine Resources Study 1980-1997.csv                                                                                                                            </td><td>  59757</td><td>obis_download/data_coverage/data_slim/CSIRO, North West Shelf Demersal Marine Resources Study 1980-1997.csv                                                                                                                            </td><td> 186698</td><td>3.200731e-01</td></tr>\n",
       "\t<tr><td>CSIRO, Soviet Fishery Data, Australia, 1965-1978.csv                                                                                                                                             </td><td>   7516</td><td>obis_download/data_coverage/data_slim/CSIRO, Soviet Fishery Data, Australia, 1965-1978.csv                                                                                                                                             </td><td> 117871</td><td>6.376462e-02</td></tr>\n",
       "\t<tr><td>Epibenthos and demersal fish monitoring at long-term monitoring stations in the Belgian part of the North Sea.csv                                                                                </td><td>    586</td><td>obis_download/data_coverage/data_slim/Epibenthos and demersal fish monitoring at long-term monitoring stations in the Belgian part of the North Sea.csv                                                                                </td><td>   4713</td><td>1.243369e-01</td></tr>\n",
       "\t<tr><td>ICES Baltic International Trawl Survey for commercial fish species.csv                                                                                                                           </td><td>    271</td><td>obis_download/data_coverage/data_slim/ICES Baltic International Trawl Survey for commercial fish species.csv                                                                                                                           </td><td> 768517</td><td>3.526272e-04</td></tr>\n",
       "\t<tr><td>ICES Beam Trawl Survey for commercial fish species.csv                                                                                                                                           </td><td>    453</td><td>obis_download/data_coverage/data_slim/ICES Beam Trawl Survey for commercial fish species.csv                                                                                                                                           </td><td> 383266</td><td>1.181947e-03</td></tr>\n",
       "\t<tr><td>ICES North Sea International Bottom Trawl Survey for commercial fish species.csv                                                                                                                 </td><td>   1033</td><td>obis_download/data_coverage/data_slim/ICES North Sea International Bottom Trawl Survey for commercial fish species.csv                                                                                                                 </td><td>2932706</td><td>3.522344e-04</td></tr>\n",
       "\t<tr><td>Irish Ground Fish Survey for commercial fish species.csv                                                                                                                                         </td><td>     16</td><td>obis_download/data_coverage/data_slim/Irish Ground Fish Survey for commercial fish species.csv                                                                                                                                         </td><td> 160681</td><td>9.957618e-05</td></tr>\n",
       "\t<tr><td>Marine biodiversity atlas of the Balearic Sea.csv                                                                                                                                                </td><td>      1</td><td>obis_download/data_coverage/data_slim/Marine biodiversity atlas of the Balearic Sea.csv                                                                                                                                                </td><td>  37362</td><td>2.676516e-05</td></tr>\n",
       "\t<tr><td>Marine biological observation data from coastal and offshore surveys around New Zealand.csv                                                                                                      </td><td>      4</td><td>obis_download/data_coverage/data_slim/Marine biological observation data from coastal and offshore surveys around New Zealand.csv                                                                                                      </td><td>   1685</td><td>2.373887e-03</td></tr>\n",
       "\t<tr><td>Maritimes Fall Research Vessel Surveys.csv                                                                                                                                                       </td><td>  13699</td><td>obis_download/data_coverage/data_slim/Maritimes Fall Research Vessel Surveys.csv                                                                                                                                                       </td><td> 133698</td><td>1.024623e-01</td></tr>\n",
       "\t<tr><td>Maritimes Spring Research Vessel Surveys.csv                                                                                                                                                     </td><td> 406141</td><td>obis_download/data_coverage/data_slim/Maritimes Spring Research Vessel Surveys.csv                                                                                                                                                     </td><td> 593326</td><td>6.845158e-01</td></tr>\n",
       "\t<tr><td>Maritimes Summer Research Vessel Surveys.csv                                                                                                                                                     </td><td>1160779</td><td>obis_download/data_coverage/data_slim/Maritimes Summer Research Vessel Surveys.csv                                                                                                                                                     </td><td>1325213</td><td>8.759188e-01</td></tr>\n",
       "\t<tr><td>NOAA AFSC North Pacific Groundfish Observer.csv                                                                                                                                                  </td><td>     41</td><td>obis_download/data_coverage/data_slim/NOAA AFSC North Pacific Groundfish Observer.csv                                                                                                                                                  </td><td> 290023</td><td>1.413681e-04</td></tr>\n",
       "\t<tr><td>NOAA Pacific Islands Fisheries Science Center, Ecosystem Sciences Division, National Coral Reef Monitoring Program: Stratified random surveys (StRS) of reef fish in the U.S. Pacific Islands.csv</td><td>     37</td><td>obis_download/data_coverage/data_slim/NOAA Pacific Islands Fisheries Science Center, Ecosystem Sciences Division, National Coral Reef Monitoring Program: Stratified random surveys (StRS) of reef fish in the U.S. Pacific Islands.csv</td><td> 698862</td><td>5.294321e-05</td></tr>\n",
       "\t<tr><td>Northeast Fisheries Science Center Bottom Trawl Survey Data.csv                                                                                                                                  </td><td>    157</td><td>obis_download/data_coverage/data_slim/Northeast Fisheries Science Center Bottom Trawl Survey Data.csv                                                                                                                                  </td><td> 390422</td><td>4.021290e-04</td></tr>\n",
       "\t<tr><td>Northern Irish Ground Fish Trawl Survey.csv                                                                                                                                                      </td><td>      4</td><td>obis_download/data_coverage/data_slim/Northern Irish Ground Fish Trawl Survey.csv                                                                                                                                                      </td><td> 158651</td><td>2.521257e-05</td></tr>\n",
       "\t<tr><td>Northumberland Strait multi-species trawl survey dataset.csv                                                                                                                                     </td><td>    243</td><td>obis_download/data_coverage/data_slim/Northumberland Strait multi-species trawl survey dataset.csv                                                                                                                                     </td><td>  15468</td><td>1.570985e-02</td></tr>\n",
       "\t<tr><td>Pacific Multispecies Small Mesh Bottom Trawl Survey.csv                                                                                                                                          </td><td> 209144</td><td>obis_download/data_coverage/data_slim/Pacific Multispecies Small Mesh Bottom Trawl Survey.csv                                                                                                                                          </td><td> 286299</td><td>7.305090e-01</td></tr>\n",
       "\t<tr><td>Puerto Rico Long-Term Coral Reef Monitoring Program Database Compilation.csv                                                                                                                     </td><td>   4298</td><td>obis_download/data_coverage/data_slim/Puerto Rico Long-Term Coral Reef Monitoring Program Database Compilation.csv                                                                                                                     </td><td>  34288</td><td>1.253500e-01</td></tr>\n",
       "\t<tr><td>Soviet Trawl Fishery Data (New Zealand Waters) 1964-1987.csv                                                                                                                                     </td><td>    754</td><td>obis_download/data_coverage/data_slim/Soviet Trawl Fishery Data (New Zealand Waters) 1964-1987.csv                                                                                                                                     </td><td>  96556</td><td>7.808940e-03</td></tr>\n",
       "</tbody>\n",
       "</table>\n"
      ],
      "text/latex": [
       "A data.frame: 22 × 5\n",
       "\\begin{tabular}{lllll}\n",
       " dataset\\_name & Freq & path & observation\\_num & na\\_percent\\\\\n",
       " <fct> & <int> & <chr> & <int> & <dbl>\\\\\n",
       "\\hline\n",
       "\t Bottom Trawl Surveys: Catch and Effort Data For South East Australia, 1898-1996.csv                                                                                                               &     614 & obis\\_download/data\\_coverage/data\\_slim/Bottom Trawl Surveys: Catch and Effort Data For South East Australia, 1898-1996.csv                                                                                                               &   13820 & 4.442836e-02\\\\\n",
       "\t Catch data from New Zealand research trawls since 2008.csv                                                                                                                                        &     646 & obis\\_download/data\\_coverage/data\\_slim/Catch data from New Zealand research trawls since 2008.csv                                                                                                                                        &   92707 & 6.968190e-03\\\\\n",
       "\t CSIRO, North West Shelf Demersal Marine Resources Study 1980-1997.csv                                                                                                                             &   59757 & obis\\_download/data\\_coverage/data\\_slim/CSIRO, North West Shelf Demersal Marine Resources Study 1980-1997.csv                                                                                                                             &  186698 & 3.200731e-01\\\\\n",
       "\t CSIRO, Soviet Fishery Data, Australia, 1965-1978.csv                                                                                                                                              &    7516 & obis\\_download/data\\_coverage/data\\_slim/CSIRO, Soviet Fishery Data, Australia, 1965-1978.csv                                                                                                                                              &  117871 & 6.376462e-02\\\\\n",
       "\t Epibenthos and demersal fish monitoring at long-term monitoring stations in the Belgian part of the North Sea.csv                                                                                 &     586 & obis\\_download/data\\_coverage/data\\_slim/Epibenthos and demersal fish monitoring at long-term monitoring stations in the Belgian part of the North Sea.csv                                                                                 &    4713 & 1.243369e-01\\\\\n",
       "\t ICES Baltic International Trawl Survey for commercial fish species.csv                                                                                                                            &     271 & obis\\_download/data\\_coverage/data\\_slim/ICES Baltic International Trawl Survey for commercial fish species.csv                                                                                                                            &  768517 & 3.526272e-04\\\\\n",
       "\t ICES Beam Trawl Survey for commercial fish species.csv                                                                                                                                            &     453 & obis\\_download/data\\_coverage/data\\_slim/ICES Beam Trawl Survey for commercial fish species.csv                                                                                                                                            &  383266 & 1.181947e-03\\\\\n",
       "\t ICES North Sea International Bottom Trawl Survey for commercial fish species.csv                                                                                                                  &    1033 & obis\\_download/data\\_coverage/data\\_slim/ICES North Sea International Bottom Trawl Survey for commercial fish species.csv                                                                                                                  & 2932706 & 3.522344e-04\\\\\n",
       "\t Irish Ground Fish Survey for commercial fish species.csv                                                                                                                                          &      16 & obis\\_download/data\\_coverage/data\\_slim/Irish Ground Fish Survey for commercial fish species.csv                                                                                                                                          &  160681 & 9.957618e-05\\\\\n",
       "\t Marine biodiversity atlas of the Balearic Sea.csv                                                                                                                                                 &       1 & obis\\_download/data\\_coverage/data\\_slim/Marine biodiversity atlas of the Balearic Sea.csv                                                                                                                                                 &   37362 & 2.676516e-05\\\\\n",
       "\t Marine biological observation data from coastal and offshore surveys around New Zealand.csv                                                                                                       &       4 & obis\\_download/data\\_coverage/data\\_slim/Marine biological observation data from coastal and offshore surveys around New Zealand.csv                                                                                                       &    1685 & 2.373887e-03\\\\\n",
       "\t Maritimes Fall Research Vessel Surveys.csv                                                                                                                                                        &   13699 & obis\\_download/data\\_coverage/data\\_slim/Maritimes Fall Research Vessel Surveys.csv                                                                                                                                                        &  133698 & 1.024623e-01\\\\\n",
       "\t Maritimes Spring Research Vessel Surveys.csv                                                                                                                                                      &  406141 & obis\\_download/data\\_coverage/data\\_slim/Maritimes Spring Research Vessel Surveys.csv                                                                                                                                                      &  593326 & 6.845158e-01\\\\\n",
       "\t Maritimes Summer Research Vessel Surveys.csv                                                                                                                                                      & 1160779 & obis\\_download/data\\_coverage/data\\_slim/Maritimes Summer Research Vessel Surveys.csv                                                                                                                                                      & 1325213 & 8.759188e-01\\\\\n",
       "\t NOAA AFSC North Pacific Groundfish Observer.csv                                                                                                                                                   &      41 & obis\\_download/data\\_coverage/data\\_slim/NOAA AFSC North Pacific Groundfish Observer.csv                                                                                                                                                   &  290023 & 1.413681e-04\\\\\n",
       "\t NOAA Pacific Islands Fisheries Science Center, Ecosystem Sciences Division, National Coral Reef Monitoring Program: Stratified random surveys (StRS) of reef fish in the U.S. Pacific Islands.csv &      37 & obis\\_download/data\\_coverage/data\\_slim/NOAA Pacific Islands Fisheries Science Center, Ecosystem Sciences Division, National Coral Reef Monitoring Program: Stratified random surveys (StRS) of reef fish in the U.S. Pacific Islands.csv &  698862 & 5.294321e-05\\\\\n",
       "\t Northeast Fisheries Science Center Bottom Trawl Survey Data.csv                                                                                                                                   &     157 & obis\\_download/data\\_coverage/data\\_slim/Northeast Fisheries Science Center Bottom Trawl Survey Data.csv                                                                                                                                   &  390422 & 4.021290e-04\\\\\n",
       "\t Northern Irish Ground Fish Trawl Survey.csv                                                                                                                                                       &       4 & obis\\_download/data\\_coverage/data\\_slim/Northern Irish Ground Fish Trawl Survey.csv                                                                                                                                                       &  158651 & 2.521257e-05\\\\\n",
       "\t Northumberland Strait multi-species trawl survey dataset.csv                                                                                                                                      &     243 & obis\\_download/data\\_coverage/data\\_slim/Northumberland Strait multi-species trawl survey dataset.csv                                                                                                                                      &   15468 & 1.570985e-02\\\\\n",
       "\t Pacific Multispecies Small Mesh Bottom Trawl Survey.csv                                                                                                                                           &  209144 & obis\\_download/data\\_coverage/data\\_slim/Pacific Multispecies Small Mesh Bottom Trawl Survey.csv                                                                                                                                           &  286299 & 7.305090e-01\\\\\n",
       "\t Puerto Rico Long-Term Coral Reef Monitoring Program Database Compilation.csv                                                                                                                      &    4298 & obis\\_download/data\\_coverage/data\\_slim/Puerto Rico Long-Term Coral Reef Monitoring Program Database Compilation.csv                                                                                                                      &   34288 & 1.253500e-01\\\\\n",
       "\t Soviet Trawl Fishery Data (New Zealand Waters) 1964-1987.csv                                                                                                                                      &     754 & obis\\_download/data\\_coverage/data\\_slim/Soviet Trawl Fishery Data (New Zealand Waters) 1964-1987.csv                                                                                                                                      &   96556 & 7.808940e-03\\\\\n",
       "\\end{tabular}\n"
      ],
      "text/markdown": [
       "\n",
       "A data.frame: 22 × 5\n",
       "\n",
       "| dataset_name &lt;fct&gt; | Freq &lt;int&gt; | path &lt;chr&gt; | observation_num &lt;int&gt; | na_percent &lt;dbl&gt; |\n",
       "|---|---|---|---|---|\n",
       "| Bottom Trawl Surveys: Catch and Effort Data For South East Australia, 1898-1996.csv                                                                                                               |     614 | obis_download/data_coverage/data_slim/Bottom Trawl Surveys: Catch and Effort Data For South East Australia, 1898-1996.csv                                                                                                               |   13820 | 4.442836e-02 |\n",
       "| Catch data from New Zealand research trawls since 2008.csv                                                                                                                                        |     646 | obis_download/data_coverage/data_slim/Catch data from New Zealand research trawls since 2008.csv                                                                                                                                        |   92707 | 6.968190e-03 |\n",
       "| CSIRO, North West Shelf Demersal Marine Resources Study 1980-1997.csv                                                                                                                             |   59757 | obis_download/data_coverage/data_slim/CSIRO, North West Shelf Demersal Marine Resources Study 1980-1997.csv                                                                                                                             |  186698 | 3.200731e-01 |\n",
       "| CSIRO, Soviet Fishery Data, Australia, 1965-1978.csv                                                                                                                                              |    7516 | obis_download/data_coverage/data_slim/CSIRO, Soviet Fishery Data, Australia, 1965-1978.csv                                                                                                                                              |  117871 | 6.376462e-02 |\n",
       "| Epibenthos and demersal fish monitoring at long-term monitoring stations in the Belgian part of the North Sea.csv                                                                                 |     586 | obis_download/data_coverage/data_slim/Epibenthos and demersal fish monitoring at long-term monitoring stations in the Belgian part of the North Sea.csv                                                                                 |    4713 | 1.243369e-01 |\n",
       "| ICES Baltic International Trawl Survey for commercial fish species.csv                                                                                                                            |     271 | obis_download/data_coverage/data_slim/ICES Baltic International Trawl Survey for commercial fish species.csv                                                                                                                            |  768517 | 3.526272e-04 |\n",
       "| ICES Beam Trawl Survey for commercial fish species.csv                                                                                                                                            |     453 | obis_download/data_coverage/data_slim/ICES Beam Trawl Survey for commercial fish species.csv                                                                                                                                            |  383266 | 1.181947e-03 |\n",
       "| ICES North Sea International Bottom Trawl Survey for commercial fish species.csv                                                                                                                  |    1033 | obis_download/data_coverage/data_slim/ICES North Sea International Bottom Trawl Survey for commercial fish species.csv                                                                                                                  | 2932706 | 3.522344e-04 |\n",
       "| Irish Ground Fish Survey for commercial fish species.csv                                                                                                                                          |      16 | obis_download/data_coverage/data_slim/Irish Ground Fish Survey for commercial fish species.csv                                                                                                                                          |  160681 | 9.957618e-05 |\n",
       "| Marine biodiversity atlas of the Balearic Sea.csv                                                                                                                                                 |       1 | obis_download/data_coverage/data_slim/Marine biodiversity atlas of the Balearic Sea.csv                                                                                                                                                 |   37362 | 2.676516e-05 |\n",
       "| Marine biological observation data from coastal and offshore surveys around New Zealand.csv                                                                                                       |       4 | obis_download/data_coverage/data_slim/Marine biological observation data from coastal and offshore surveys around New Zealand.csv                                                                                                       |    1685 | 2.373887e-03 |\n",
       "| Maritimes Fall Research Vessel Surveys.csv                                                                                                                                                        |   13699 | obis_download/data_coverage/data_slim/Maritimes Fall Research Vessel Surveys.csv                                                                                                                                                        |  133698 | 1.024623e-01 |\n",
       "| Maritimes Spring Research Vessel Surveys.csv                                                                                                                                                      |  406141 | obis_download/data_coverage/data_slim/Maritimes Spring Research Vessel Surveys.csv                                                                                                                                                      |  593326 | 6.845158e-01 |\n",
       "| Maritimes Summer Research Vessel Surveys.csv                                                                                                                                                      | 1160779 | obis_download/data_coverage/data_slim/Maritimes Summer Research Vessel Surveys.csv                                                                                                                                                      | 1325213 | 8.759188e-01 |\n",
       "| NOAA AFSC North Pacific Groundfish Observer.csv                                                                                                                                                   |      41 | obis_download/data_coverage/data_slim/NOAA AFSC North Pacific Groundfish Observer.csv                                                                                                                                                   |  290023 | 1.413681e-04 |\n",
       "| NOAA Pacific Islands Fisheries Science Center, Ecosystem Sciences Division, National Coral Reef Monitoring Program: Stratified random surveys (StRS) of reef fish in the U.S. Pacific Islands.csv |      37 | obis_download/data_coverage/data_slim/NOAA Pacific Islands Fisheries Science Center, Ecosystem Sciences Division, National Coral Reef Monitoring Program: Stratified random surveys (StRS) of reef fish in the U.S. Pacific Islands.csv |  698862 | 5.294321e-05 |\n",
       "| Northeast Fisheries Science Center Bottom Trawl Survey Data.csv                                                                                                                                   |     157 | obis_download/data_coverage/data_slim/Northeast Fisheries Science Center Bottom Trawl Survey Data.csv                                                                                                                                   |  390422 | 4.021290e-04 |\n",
       "| Northern Irish Ground Fish Trawl Survey.csv                                                                                                                                                       |       4 | obis_download/data_coverage/data_slim/Northern Irish Ground Fish Trawl Survey.csv                                                                                                                                                       |  158651 | 2.521257e-05 |\n",
       "| Northumberland Strait multi-species trawl survey dataset.csv                                                                                                                                      |     243 | obis_download/data_coverage/data_slim/Northumberland Strait multi-species trawl survey dataset.csv                                                                                                                                      |   15468 | 1.570985e-02 |\n",
       "| Pacific Multispecies Small Mesh Bottom Trawl Survey.csv                                                                                                                                           |  209144 | obis_download/data_coverage/data_slim/Pacific Multispecies Small Mesh Bottom Trawl Survey.csv                                                                                                                                           |  286299 | 7.305090e-01 |\n",
       "| Puerto Rico Long-Term Coral Reef Monitoring Program Database Compilation.csv                                                                                                                      |    4298 | obis_download/data_coverage/data_slim/Puerto Rico Long-Term Coral Reef Monitoring Program Database Compilation.csv                                                                                                                      |   34288 | 1.253500e-01 |\n",
       "| Soviet Trawl Fishery Data (New Zealand Waters) 1964-1987.csv                                                                                                                                      |     754 | obis_download/data_coverage/data_slim/Soviet Trawl Fishery Data (New Zealand Waters) 1964-1987.csv                                                                                                                                      |   96556 | 7.808940e-03 |\n",
       "\n"
      ],
      "text/plain": [
       "   dataset_name                                                                                                                                                                                     \n",
       "1  Bottom Trawl Surveys: Catch and Effort Data For South East Australia, 1898-1996.csv                                                                                                              \n",
       "2  Catch data from New Zealand research trawls since 2008.csv                                                                                                                                       \n",
       "3  CSIRO, North West Shelf Demersal Marine Resources Study 1980-1997.csv                                                                                                                            \n",
       "4  CSIRO, Soviet Fishery Data, Australia, 1965-1978.csv                                                                                                                                             \n",
       "5  Epibenthos and demersal fish monitoring at long-term monitoring stations in the Belgian part of the North Sea.csv                                                                                \n",
       "6  ICES Baltic International Trawl Survey for commercial fish species.csv                                                                                                                           \n",
       "7  ICES Beam Trawl Survey for commercial fish species.csv                                                                                                                                           \n",
       "8  ICES North Sea International Bottom Trawl Survey for commercial fish species.csv                                                                                                                 \n",
       "9  Irish Ground Fish Survey for commercial fish species.csv                                                                                                                                         \n",
       "10 Marine biodiversity atlas of the Balearic Sea.csv                                                                                                                                                \n",
       "11 Marine biological observation data from coastal and offshore surveys around New Zealand.csv                                                                                                      \n",
       "12 Maritimes Fall Research Vessel Surveys.csv                                                                                                                                                       \n",
       "13 Maritimes Spring Research Vessel Surveys.csv                                                                                                                                                     \n",
       "14 Maritimes Summer Research Vessel Surveys.csv                                                                                                                                                     \n",
       "15 NOAA AFSC North Pacific Groundfish Observer.csv                                                                                                                                                  \n",
       "16 NOAA Pacific Islands Fisheries Science Center, Ecosystem Sciences Division, National Coral Reef Monitoring Program: Stratified random surveys (StRS) of reef fish in the U.S. Pacific Islands.csv\n",
       "17 Northeast Fisheries Science Center Bottom Trawl Survey Data.csv                                                                                                                                  \n",
       "18 Northern Irish Ground Fish Trawl Survey.csv                                                                                                                                                      \n",
       "19 Northumberland Strait multi-species trawl survey dataset.csv                                                                                                                                     \n",
       "20 Pacific Multispecies Small Mesh Bottom Trawl Survey.csv                                                                                                                                          \n",
       "21 Puerto Rico Long-Term Coral Reef Monitoring Program Database Compilation.csv                                                                                                                     \n",
       "22 Soviet Trawl Fishery Data (New Zealand Waters) 1964-1987.csv                                                                                                                                     \n",
       "   Freq   \n",
       "1      614\n",
       "2      646\n",
       "3    59757\n",
       "4     7516\n",
       "5      586\n",
       "6      271\n",
       "7      453\n",
       "8     1033\n",
       "9       16\n",
       "10       1\n",
       "11       4\n",
       "12   13699\n",
       "13  406141\n",
       "14 1160779\n",
       "15      41\n",
       "16      37\n",
       "17     157\n",
       "18       4\n",
       "19     243\n",
       "20  209144\n",
       "21    4298\n",
       "22     754\n",
       "   path                                                                                                                                                                                                                                   \n",
       "1  obis_download/data_coverage/data_slim/Bottom Trawl Surveys: Catch and Effort Data For South East Australia, 1898-1996.csv                                                                                                              \n",
       "2  obis_download/data_coverage/data_slim/Catch data from New Zealand research trawls since 2008.csv                                                                                                                                       \n",
       "3  obis_download/data_coverage/data_slim/CSIRO, North West Shelf Demersal Marine Resources Study 1980-1997.csv                                                                                                                            \n",
       "4  obis_download/data_coverage/data_slim/CSIRO, Soviet Fishery Data, Australia, 1965-1978.csv                                                                                                                                             \n",
       "5  obis_download/data_coverage/data_slim/Epibenthos and demersal fish monitoring at long-term monitoring stations in the Belgian part of the North Sea.csv                                                                                \n",
       "6  obis_download/data_coverage/data_slim/ICES Baltic International Trawl Survey for commercial fish species.csv                                                                                                                           \n",
       "7  obis_download/data_coverage/data_slim/ICES Beam Trawl Survey for commercial fish species.csv                                                                                                                                           \n",
       "8  obis_download/data_coverage/data_slim/ICES North Sea International Bottom Trawl Survey for commercial fish species.csv                                                                                                                 \n",
       "9  obis_download/data_coverage/data_slim/Irish Ground Fish Survey for commercial fish species.csv                                                                                                                                         \n",
       "10 obis_download/data_coverage/data_slim/Marine biodiversity atlas of the Balearic Sea.csv                                                                                                                                                \n",
       "11 obis_download/data_coverage/data_slim/Marine biological observation data from coastal and offshore surveys around New Zealand.csv                                                                                                      \n",
       "12 obis_download/data_coverage/data_slim/Maritimes Fall Research Vessel Surveys.csv                                                                                                                                                       \n",
       "13 obis_download/data_coverage/data_slim/Maritimes Spring Research Vessel Surveys.csv                                                                                                                                                     \n",
       "14 obis_download/data_coverage/data_slim/Maritimes Summer Research Vessel Surveys.csv                                                                                                                                                     \n",
       "15 obis_download/data_coverage/data_slim/NOAA AFSC North Pacific Groundfish Observer.csv                                                                                                                                                  \n",
       "16 obis_download/data_coverage/data_slim/NOAA Pacific Islands Fisheries Science Center, Ecosystem Sciences Division, National Coral Reef Monitoring Program: Stratified random surveys (StRS) of reef fish in the U.S. Pacific Islands.csv\n",
       "17 obis_download/data_coverage/data_slim/Northeast Fisheries Science Center Bottom Trawl Survey Data.csv                                                                                                                                  \n",
       "18 obis_download/data_coverage/data_slim/Northern Irish Ground Fish Trawl Survey.csv                                                                                                                                                      \n",
       "19 obis_download/data_coverage/data_slim/Northumberland Strait multi-species trawl survey dataset.csv                                                                                                                                     \n",
       "20 obis_download/data_coverage/data_slim/Pacific Multispecies Small Mesh Bottom Trawl Survey.csv                                                                                                                                          \n",
       "21 obis_download/data_coverage/data_slim/Puerto Rico Long-Term Coral Reef Monitoring Program Database Compilation.csv                                                                                                                     \n",
       "22 obis_download/data_coverage/data_slim/Soviet Trawl Fishery Data (New Zealand Waters) 1964-1987.csv                                                                                                                                     \n",
       "   observation_num na_percent  \n",
       "1    13820         4.442836e-02\n",
       "2    92707         6.968190e-03\n",
       "3   186698         3.200731e-01\n",
       "4   117871         6.376462e-02\n",
       "5     4713         1.243369e-01\n",
       "6   768517         3.526272e-04\n",
       "7   383266         1.181947e-03\n",
       "8  2932706         3.522344e-04\n",
       "9   160681         9.957618e-05\n",
       "10   37362         2.676516e-05\n",
       "11    1685         2.373887e-03\n",
       "12  133698         1.024623e-01\n",
       "13  593326         6.845158e-01\n",
       "14 1325213         8.759188e-01\n",
       "15  290023         1.413681e-04\n",
       "16  698862         5.294321e-05\n",
       "17  390422         4.021290e-04\n",
       "18  158651         2.521257e-05\n",
       "19   15468         1.570985e-02\n",
       "20  286299         7.305090e-01\n",
       "21   34288         1.253500e-01\n",
       "22   96556         7.808940e-03"
      ]
     },
     "metadata": {},
     "output_type": "display_data"
    }
   ],
   "source": [
    "na_abund_table"
   ]
  },
  {
   "cell_type": "code",
   "execution_count": 254,
   "id": "e1818abb-460a-4c4b-8ac7-aaf7d2826b14",
   "metadata": {
    "vscode": {
     "languageId": "r"
    }
   },
   "outputs": [],
   "source": [
    "obis_data <- filter(obis_data, ! (dataset_name %in% na_abund_table$dataset_name[which(na_abund_table$na_percent > 0.1)])) %>% \n",
    "    mutate(abundance = na_if(abundance, -9), abundance = na_if(abundance, 0))"
   ]
  },
  {
   "cell_type": "code",
   "execution_count": 257,
   "id": "b791bf48-72fc-4242-bbfd-20f1bcb81895",
   "metadata": {
    "vscode": {
     "languageId": "r"
    }
   },
   "outputs": [
    {
     "data": {
      "text/plain": [
       "   date_year    scientificName     decimalLongitude   decimalLatitude \n",
       " Min.   :1909   Length:9025484     Min.   :-179.910   Min.   :-67.01  \n",
       " 1st Qu.:1995   Class :character   1st Qu.: -80.828   1st Qu.: 24.97  \n",
       " Median :2002   Mode  :character   Median :  -4.046   Median : 51.61  \n",
       " Mean   :2001                      Mean   : -33.664   Mean   : 39.58  \n",
       " 3rd Qu.:2009                      3rd Qu.:   4.383   3rd Qu.: 56.29  \n",
       " Max.   :2019                      Max.   : 179.980   Max.   : 74.00  \n",
       "                                                                      \n",
       "   abundance             grid         dataset_name      \n",
       " Min.   :       0   Min.   :      1   Length:9025484    \n",
       " 1st Qu.:       1   1st Qu.: 545919   Class :character  \n",
       " Median :      15   Median : 618836   Mode  :character  \n",
       " Mean   :    3397   Mean   :1544998                     \n",
       " 3rd Qu.:     186   3rd Qu.:2703093                     \n",
       " Max.   :71842400   Max.   :5214585                     \n",
       " NA's   :11790                                          "
      ]
     },
     "metadata": {},
     "output_type": "display_data"
    }
   ],
   "source": [
    "summary(obis_data)"
   ]
  },
  {
   "cell_type": "markdown",
   "id": "15bdfce3-3dec-40e2-8573-ea6cd57a5ecb",
   "metadata": {},
   "source": [
    "### traits assign & delete datasets with too much NA traits"
   ]
  },
  {
   "cell_type": "code",
   "execution_count": 260,
   "id": "862e4a08-eb27-4d1d-b713-41cafe27adf6",
   "metadata": {
    "vscode": {
     "languageId": "r"
    }
   },
   "outputs": [
    {
     "data": {
      "text/plain": [
       "   date_year    scientificName     decimalLongitude   decimalLatitude \n",
       " Min.   :1909   Length:9347399     Min.   :-179.910   Min.   :-67.01  \n",
       " 1st Qu.:1995   Class :character   1st Qu.: -80.943   1st Qu.: 24.92  \n",
       " Median :2003   Mode  :character   Median :  -4.262   Median : 51.31  \n",
       " Mean   :2001                      Mean   : -33.835   Mean   : 39.20  \n",
       " 3rd Qu.:2009                      3rd Qu.:   4.367   3rd Qu.: 56.23  \n",
       " Max.   :2019                      Max.   : 179.980   Max.   : 74.00  \n",
       "                                                                      \n",
       "   abundance             grid         dataset_name         binomial        \n",
       " Min.   :       0   Min.   :      1   Length:9347399     Length:9347399    \n",
       " 1st Qu.:       1   1st Qu.: 546005   Class :character   Class :character  \n",
       " Median :      14   Median : 623283   Mode  :character   Mode  :character  \n",
       " Mean   :    3282   Mean   :1568158                                        \n",
       " 3rd Qu.:     171   3rd Qu.:2703093                                        \n",
       " Max.   :71842400   Max.   :5214585                                        \n",
       " NA's   :14551                                                             \n",
       "  MaxLengthTL          Troph        TempPrefMean_imputed    genus          \n",
       " Min.   :   1.95   Min.   :2.00     Min.   :-1.20        Length:9347399    \n",
       " 1st Qu.:  30.50   1st Qu.:3.20     1st Qu.: 8.40        Class :character  \n",
       " Median :  54.90   Median :3.55     Median :10.20        Mode  :character  \n",
       " Mean   :  68.31   Mean   :3.50     Mean   :15.24                          \n",
       " 3rd Qu.:  91.50   3rd Qu.:4.03     3rd Qu.:26.70                          \n",
       " Max.   :1520.00   Max.   :4.94     Max.   :29.00                          \n",
       " NA's   :209012    NA's   :209012   NA's   :209012                         \n",
       "    family         \n",
       " Length:9347399    \n",
       " Class :character  \n",
       " Mode  :character  \n",
       "                   \n",
       "                   \n",
       "                   \n",
       "                   "
      ]
     },
     "metadata": {},
     "output_type": "display_data"
    }
   ],
   "source": [
    "obis_traits <- left_join(obis_data, select(taxa_verified_table, ScientificName, binomial),\n",
    "                         by = c('scientificName' = 'ScientificName')) %>% \n",
    "    left_join(fishbase_traits_final, by = c('binomial' = 'Species')) %>% \n",
    "    mutate(binomial = coalesce(binomial, scientificName))\n",
    "summary(obis_traits)"
   ]
  },
  {
   "cell_type": "code",
   "execution_count": 261,
   "id": "6acd1053-e94e-4bb2-8562-bbbe7b6f7fbd",
   "metadata": {
    "vscode": {
     "languageId": "r"
    }
   },
   "outputs": [],
   "source": [
    "obis_traits_imputed <- group_by(obis_traits, dataset_name, grid) %>% group_split() %>% lapply(fill_na_with_taxon_mean)\n",
    "obis_traits_imputed <- data.frame(Reduce(rbind, obis_traits_imputed))"
   ]
  },
  {
   "cell_type": "code",
   "execution_count": 265,
   "id": "a6756854-59d3-41b1-890a-5f531f3d83ad",
   "metadata": {
    "vscode": {
     "languageId": "r"
    }
   },
   "outputs": [
    {
     "data": {
      "text/plain": [
       "   date_year    scientificName     decimalLongitude   decimalLatitude \n",
       " Min.   :1909   Length:9347399     Min.   :-179.910   Min.   :-67.01  \n",
       " 1st Qu.:1995   Class :character   1st Qu.: -80.943   1st Qu.: 24.92  \n",
       " Median :2003   Mode  :character   Median :  -4.262   Median : 51.31  \n",
       " Mean   :2001                      Mean   : -33.835   Mean   : 39.20  \n",
       " 3rd Qu.:2009                      3rd Qu.:   4.367   3rd Qu.: 56.23  \n",
       " Max.   :2019                      Max.   : 179.980   Max.   : 74.00  \n",
       "                                                                      \n",
       "   abundance             grid         dataset_name         binomial        \n",
       " Min.   :       0   Min.   :      1   Length:9347399     Length:9347399    \n",
       " 1st Qu.:       1   1st Qu.: 546005   Class :character   Class :character  \n",
       " Median :      14   Median : 623283   Mode  :character   Mode  :character  \n",
       " Mean   :    3282   Mean   :1568158                                        \n",
       " 3rd Qu.:     171   3rd Qu.:2703093                                        \n",
       " Max.   :71842400   Max.   :5214585                                        \n",
       " NA's   :14551                                                             \n",
       "  MaxLengthTL          Troph       TempPrefMean_imputed    genus          \n",
       " Min.   :   1.95   Min.   :2.00    Min.   :-1.20        Length:9347399    \n",
       " 1st Qu.:  30.50   1st Qu.:3.19    1st Qu.: 8.40        Class :character  \n",
       " Median :  54.90   Median :3.54    Median :10.20        Mode  :character  \n",
       " Mean   :  68.08   Mean   :3.49    Mean   :15.21                          \n",
       " 3rd Qu.:  91.50   3rd Qu.:4.03    3rd Qu.:26.60                          \n",
       " Max.   :1520.00   Max.   :4.94    Max.   :29.00                          \n",
       " NA's   :79494     NA's   :79494   NA's   :79494                          \n",
       "    family         \n",
       " Length:9347399    \n",
       " Class :character  \n",
       " Mode  :character  \n",
       "                   \n",
       "                   \n",
       "                   \n",
       "                   "
      ]
     },
     "metadata": {},
     "output_type": "display_data"
    }
   ],
   "source": [
    "summary(obis_traits_imputed)\n",
    "# saveRDS(obis_traits_imputed, 'obis_traits_imputed.rds')"
   ]
  },
  {
   "cell_type": "markdown",
   "id": "f9e485ee-8414-4c80-8d60-73f5a5cf8f4e",
   "metadata": {},
   "source": [
    "### NA traits"
   ]
  },
  {
   "cell_type": "code",
   "execution_count": 2,
   "id": "6a5c8892-342d-46e0-b1f9-5d5256b7ba2f",
   "metadata": {
    "vscode": {
     "languageId": "r"
    }
   },
   "outputs": [],
   "source": [
    "# obis_traits_imputed <- readRDS('obis_traits_imputed.rds')"
   ]
  },
  {
   "cell_type": "code",
   "execution_count": 5,
   "id": "2b99fa20-24ff-4bfc-80c4-175c4c6dabf0",
   "metadata": {
    "vscode": {
     "languageId": "r"
    }
   },
   "outputs": [],
   "source": [
    "na_traits_table <- filter(obis_traits_imputed, is.na(Troph)) %>% pull(dataset_name) %>% table() %>% as.data.frame() %>%\n",
    "    arrange(desc(Freq))\n",
    "colnames(na_traits_table) <- c('dataset_name', 'Freq')\n",
    "na_traits_table$path <- paste0('obis_download/data_coverage/data_slim/', na_traits_table$dataset_name)"
   ]
  },
  {
   "cell_type": "code",
   "execution_count": 6,
   "id": "39765dc9-6ad2-465c-bc71-089831ee01db",
   "metadata": {
    "vscode": {
     "languageId": "r"
    }
   },
   "outputs": [],
   "source": [
    "na_traits_table$observation_num <- lapply(na_traits_table$path, read.csv) %>% lapply(nrow) %>% unlist()\n",
    "na_traits_table <- mutate(na_traits_table, na_percent = Freq/observation_num)"
   ]
  },
  {
   "cell_type": "code",
   "execution_count": 7,
   "id": "a381258d-eeb3-472e-9b62-7bad77173ae3",
   "metadata": {
    "tags": [],
    "vscode": {
     "languageId": "r"
    }
   },
   "outputs": [
    {
     "data": {
      "text/html": [
       "<table class=\"dataframe\">\n",
       "<caption>A data.frame: 10 × 5</caption>\n",
       "<thead>\n",
       "\t<tr><th></th><th scope=col>dataset_name</th><th scope=col>Freq</th><th scope=col>path</th><th scope=col>observation_num</th><th scope=col>na_percent</th></tr>\n",
       "\t<tr><th></th><th scope=col>&lt;fct&gt;</th><th scope=col>&lt;int&gt;</th><th scope=col>&lt;chr&gt;</th><th scope=col>&lt;int&gt;</th><th scope=col>&lt;dbl&gt;</th></tr>\n",
       "</thead>\n",
       "<tbody>\n",
       "\t<tr><th scope=row>1</th><td>DFO Maritimes Research Vessel Trawl Surveys Fish Observations (OBIS Canada).csv                                                                 </td><td>   20</td><td>obis_download/data_coverage/data_slim/DFO Maritimes Research Vessel Trawl Surveys Fish Observations (OBIS Canada).csv                                                                 </td><td>    38</td><td>0.52631579</td></tr>\n",
       "\t<tr><th scope=row>2</th><td>Gulf of Riga Larval Fish Survey.csv                                                                                                             </td><td>  950</td><td>obis_download/data_coverage/data_slim/Gulf of Riga Larval Fish Survey.csv                                                                                                             </td><td>  2064</td><td>0.46027132</td></tr>\n",
       "\t<tr><th scope=row>3</th><td>Interannual variability of ichthyoplankton diversity in the Patos Lagoon estuary Southern Brazil.csv                                            </td><td>  764</td><td>obis_download/data_coverage/data_slim/Interannual variability of ichthyoplankton diversity in the Patos Lagoon estuary Southern Brazil.csv                                            </td><td>  2162</td><td>0.35337650</td></tr>\n",
       "\t<tr><th scope=row>4</th><td>IMOS - Larval Fish Sub-Facility - Database of Marine Larval Fish Assemblages in Australian temperate and subtropical waters (1983 - ongoing).csv</td><td>13638</td><td>obis_download/data_coverage/data_slim/IMOS - Larval Fish Sub-Facility - Database of Marine Larval Fish Assemblages in Australian temperate and subtropical waters (1983 - ongoing).csv</td><td> 42570</td><td>0.32036646</td></tr>\n",
       "\t<tr><th scope=row>5</th><td>Zooplankton data from central and northern Strait of Georgia.csv                                                                                </td><td>  430</td><td>obis_download/data_coverage/data_slim/Zooplankton data from central and northern Strait of Georgia.csv                                                                                </td><td>  2619</td><td>0.16418480</td></tr>\n",
       "\t<tr><th scope=row>6</th><td>Records of fish species in coastal lagoons and sea shore that belong to Municipality of Preveza, for the period 2002-2011.csv                   </td><td>   33</td><td>obis_download/data_coverage/data_slim/Records of fish species in coastal lagoons and sea shore that belong to Municipality of Preveza, for the period 2002-2011.csv                   </td><td>   249</td><td>0.13253012</td></tr>\n",
       "\t<tr><th scope=row>7</th><td>NOAA AFSC North Pacific Groundfish Observer.csv                                                                                                 </td><td>33340</td><td>obis_download/data_coverage/data_slim/NOAA AFSC North Pacific Groundfish Observer.csv                                                                                                 </td><td>290023</td><td>0.11495640</td></tr>\n",
       "\t<tr><th scope=row>8</th><td>Rockfish Recruitment and Ecosystem Assessment Survey, Catch Data.csv                                                                            </td><td> 1760</td><td>obis_download/data_coverage/data_slim/Rockfish Recruitment and Ecosystem Assessment Survey, Catch Data.csv                                                                            </td><td> 27108</td><td>0.06492548</td></tr>\n",
       "\t<tr><th scope=row>9</th><td>Multi-decadal shifts in fish community diversity across a dynamic biogeographic transition zone.csv                                             </td><td> 4913</td><td>obis_download/data_coverage/data_slim/Multi-decadal shifts in fish community diversity across a dynamic biogeographic transition zone.csv                                             </td><td>114592</td><td>0.04287385</td></tr>\n",
       "\t<tr><th scope=row>10</th><td>SBC LTER Darwin Core Archive: Kelp Forest Reef Fish Abundance.csv                                                                               </td><td>  189</td><td>obis_download/data_coverage/data_slim/SBC LTER Darwin Core Archive: Kelp Forest Reef Fish Abundance.csv                                                                               </td><td>  4511</td><td>0.04189758</td></tr>\n",
       "</tbody>\n",
       "</table>\n"
      ],
      "text/latex": [
       "A data.frame: 10 × 5\n",
       "\\begin{tabular}{r|lllll}\n",
       "  & dataset\\_name & Freq & path & observation\\_num & na\\_percent\\\\\n",
       "  & <fct> & <int> & <chr> & <int> & <dbl>\\\\\n",
       "\\hline\n",
       "\t1 & DFO Maritimes Research Vessel Trawl Surveys Fish Observations (OBIS Canada).csv                                                                  &    20 & obis\\_download/data\\_coverage/data\\_slim/DFO Maritimes Research Vessel Trawl Surveys Fish Observations (OBIS Canada).csv                                                                  &     38 & 0.52631579\\\\\n",
       "\t2 & Gulf of Riga Larval Fish Survey.csv                                                                                                              &   950 & obis\\_download/data\\_coverage/data\\_slim/Gulf of Riga Larval Fish Survey.csv                                                                                                              &   2064 & 0.46027132\\\\\n",
       "\t3 & Interannual variability of ichthyoplankton diversity in the Patos Lagoon estuary Southern Brazil.csv                                             &   764 & obis\\_download/data\\_coverage/data\\_slim/Interannual variability of ichthyoplankton diversity in the Patos Lagoon estuary Southern Brazil.csv                                             &   2162 & 0.35337650\\\\\n",
       "\t4 & IMOS - Larval Fish Sub-Facility - Database of Marine Larval Fish Assemblages in Australian temperate and subtropical waters (1983 - ongoing).csv & 13638 & obis\\_download/data\\_coverage/data\\_slim/IMOS - Larval Fish Sub-Facility - Database of Marine Larval Fish Assemblages in Australian temperate and subtropical waters (1983 - ongoing).csv &  42570 & 0.32036646\\\\\n",
       "\t5 & Zooplankton data from central and northern Strait of Georgia.csv                                                                                 &   430 & obis\\_download/data\\_coverage/data\\_slim/Zooplankton data from central and northern Strait of Georgia.csv                                                                                 &   2619 & 0.16418480\\\\\n",
       "\t6 & Records of fish species in coastal lagoons and sea shore that belong to Municipality of Preveza, for the period 2002-2011.csv                    &    33 & obis\\_download/data\\_coverage/data\\_slim/Records of fish species in coastal lagoons and sea shore that belong to Municipality of Preveza, for the period 2002-2011.csv                    &    249 & 0.13253012\\\\\n",
       "\t7 & NOAA AFSC North Pacific Groundfish Observer.csv                                                                                                  & 33340 & obis\\_download/data\\_coverage/data\\_slim/NOAA AFSC North Pacific Groundfish Observer.csv                                                                                                  & 290023 & 0.11495640\\\\\n",
       "\t8 & Rockfish Recruitment and Ecosystem Assessment Survey, Catch Data.csv                                                                             &  1760 & obis\\_download/data\\_coverage/data\\_slim/Rockfish Recruitment and Ecosystem Assessment Survey, Catch Data.csv                                                                             &  27108 & 0.06492548\\\\\n",
       "\t9 & Multi-decadal shifts in fish community diversity across a dynamic biogeographic transition zone.csv                                              &  4913 & obis\\_download/data\\_coverage/data\\_slim/Multi-decadal shifts in fish community diversity across a dynamic biogeographic transition zone.csv                                              & 114592 & 0.04287385\\\\\n",
       "\t10 & SBC LTER Darwin Core Archive: Kelp Forest Reef Fish Abundance.csv                                                                                &   189 & obis\\_download/data\\_coverage/data\\_slim/SBC LTER Darwin Core Archive: Kelp Forest Reef Fish Abundance.csv                                                                                &   4511 & 0.04189758\\\\\n",
       "\\end{tabular}\n"
      ],
      "text/markdown": [
       "\n",
       "A data.frame: 10 × 5\n",
       "\n",
       "| <!--/--> | dataset_name &lt;fct&gt; | Freq &lt;int&gt; | path &lt;chr&gt; | observation_num &lt;int&gt; | na_percent &lt;dbl&gt; |\n",
       "|---|---|---|---|---|---|\n",
       "| 1 | DFO Maritimes Research Vessel Trawl Surveys Fish Observations (OBIS Canada).csv                                                                  |    20 | obis_download/data_coverage/data_slim/DFO Maritimes Research Vessel Trawl Surveys Fish Observations (OBIS Canada).csv                                                                  |     38 | 0.52631579 |\n",
       "| 2 | Gulf of Riga Larval Fish Survey.csv                                                                                                              |   950 | obis_download/data_coverage/data_slim/Gulf of Riga Larval Fish Survey.csv                                                                                                              |   2064 | 0.46027132 |\n",
       "| 3 | Interannual variability of ichthyoplankton diversity in the Patos Lagoon estuary Southern Brazil.csv                                             |   764 | obis_download/data_coverage/data_slim/Interannual variability of ichthyoplankton diversity in the Patos Lagoon estuary Southern Brazil.csv                                             |   2162 | 0.35337650 |\n",
       "| 4 | IMOS - Larval Fish Sub-Facility - Database of Marine Larval Fish Assemblages in Australian temperate and subtropical waters (1983 - ongoing).csv | 13638 | obis_download/data_coverage/data_slim/IMOS - Larval Fish Sub-Facility - Database of Marine Larval Fish Assemblages in Australian temperate and subtropical waters (1983 - ongoing).csv |  42570 | 0.32036646 |\n",
       "| 5 | Zooplankton data from central and northern Strait of Georgia.csv                                                                                 |   430 | obis_download/data_coverage/data_slim/Zooplankton data from central and northern Strait of Georgia.csv                                                                                 |   2619 | 0.16418480 |\n",
       "| 6 | Records of fish species in coastal lagoons and sea shore that belong to Municipality of Preveza, for the period 2002-2011.csv                    |    33 | obis_download/data_coverage/data_slim/Records of fish species in coastal lagoons and sea shore that belong to Municipality of Preveza, for the period 2002-2011.csv                    |    249 | 0.13253012 |\n",
       "| 7 | NOAA AFSC North Pacific Groundfish Observer.csv                                                                                                  | 33340 | obis_download/data_coverage/data_slim/NOAA AFSC North Pacific Groundfish Observer.csv                                                                                                  | 290023 | 0.11495640 |\n",
       "| 8 | Rockfish Recruitment and Ecosystem Assessment Survey, Catch Data.csv                                                                             |  1760 | obis_download/data_coverage/data_slim/Rockfish Recruitment and Ecosystem Assessment Survey, Catch Data.csv                                                                             |  27108 | 0.06492548 |\n",
       "| 9 | Multi-decadal shifts in fish community diversity across a dynamic biogeographic transition zone.csv                                              |  4913 | obis_download/data_coverage/data_slim/Multi-decadal shifts in fish community diversity across a dynamic biogeographic transition zone.csv                                              | 114592 | 0.04287385 |\n",
       "| 10 | SBC LTER Darwin Core Archive: Kelp Forest Reef Fish Abundance.csv                                                                                |   189 | obis_download/data_coverage/data_slim/SBC LTER Darwin Core Archive: Kelp Forest Reef Fish Abundance.csv                                                                                |   4511 | 0.04189758 |\n",
       "\n"
      ],
      "text/plain": [
       "   dataset_name                                                                                                                                    \n",
       "1  DFO Maritimes Research Vessel Trawl Surveys Fish Observations (OBIS Canada).csv                                                                 \n",
       "2  Gulf of Riga Larval Fish Survey.csv                                                                                                             \n",
       "3  Interannual variability of ichthyoplankton diversity in the Patos Lagoon estuary Southern Brazil.csv                                            \n",
       "4  IMOS - Larval Fish Sub-Facility - Database of Marine Larval Fish Assemblages in Australian temperate and subtropical waters (1983 - ongoing).csv\n",
       "5  Zooplankton data from central and northern Strait of Georgia.csv                                                                                \n",
       "6  Records of fish species in coastal lagoons and sea shore that belong to Municipality of Preveza, for the period 2002-2011.csv                   \n",
       "7  NOAA AFSC North Pacific Groundfish Observer.csv                                                                                                 \n",
       "8  Rockfish Recruitment and Ecosystem Assessment Survey, Catch Data.csv                                                                            \n",
       "9  Multi-decadal shifts in fish community diversity across a dynamic biogeographic transition zone.csv                                             \n",
       "10 SBC LTER Darwin Core Archive: Kelp Forest Reef Fish Abundance.csv                                                                               \n",
       "   Freq \n",
       "1     20\n",
       "2    950\n",
       "3    764\n",
       "4  13638\n",
       "5    430\n",
       "6     33\n",
       "7  33340\n",
       "8   1760\n",
       "9   4913\n",
       "10   189\n",
       "   path                                                                                                                                                                                  \n",
       "1  obis_download/data_coverage/data_slim/DFO Maritimes Research Vessel Trawl Surveys Fish Observations (OBIS Canada).csv                                                                 \n",
       "2  obis_download/data_coverage/data_slim/Gulf of Riga Larval Fish Survey.csv                                                                                                             \n",
       "3  obis_download/data_coverage/data_slim/Interannual variability of ichthyoplankton diversity in the Patos Lagoon estuary Southern Brazil.csv                                            \n",
       "4  obis_download/data_coverage/data_slim/IMOS - Larval Fish Sub-Facility - Database of Marine Larval Fish Assemblages in Australian temperate and subtropical waters (1983 - ongoing).csv\n",
       "5  obis_download/data_coverage/data_slim/Zooplankton data from central and northern Strait of Georgia.csv                                                                                \n",
       "6  obis_download/data_coverage/data_slim/Records of fish species in coastal lagoons and sea shore that belong to Municipality of Preveza, for the period 2002-2011.csv                   \n",
       "7  obis_download/data_coverage/data_slim/NOAA AFSC North Pacific Groundfish Observer.csv                                                                                                 \n",
       "8  obis_download/data_coverage/data_slim/Rockfish Recruitment and Ecosystem Assessment Survey, Catch Data.csv                                                                            \n",
       "9  obis_download/data_coverage/data_slim/Multi-decadal shifts in fish community diversity across a dynamic biogeographic transition zone.csv                                             \n",
       "10 obis_download/data_coverage/data_slim/SBC LTER Darwin Core Archive: Kelp Forest Reef Fish Abundance.csv                                                                               \n",
       "   observation_num na_percent\n",
       "1      38          0.52631579\n",
       "2    2064          0.46027132\n",
       "3    2162          0.35337650\n",
       "4   42570          0.32036646\n",
       "5    2619          0.16418480\n",
       "6     249          0.13253012\n",
       "7  290023          0.11495640\n",
       "8   27108          0.06492548\n",
       "9  114592          0.04287385\n",
       "10   4511          0.04189758"
      ]
     },
     "metadata": {},
     "output_type": "display_data"
    }
   ],
   "source": [
    "arrange(na_traits_table, desc(na_percent)) %>% head(n = 10)\n",
    "# dataset whose abundance was biomass\n",
    "datasetname_excluding <- c('Catch data from New Zealand research trawls since 2008.csv',\n",
    "                         'Marine biodiversity atlas of the Balearic Sea.csv',\n",
    "                          'IMR Capelin larvae monitoring.csv')\n",
    "obis_traits_imputed <- filter(obis_traits_imputed,\n",
    "                              ! (dataset_name %in% na_traits_table$dataset_name[which(na_traits_table$na_percent > 0.1)]),\n",
    "                              ! (dataset_name %in% datasetname_excluding))"
   ]
  },
  {
   "cell_type": "code",
   "execution_count": 8,
   "id": "8c86ce8c-b555-4dc2-be4b-2fcf937db897",
   "metadata": {
    "vscode": {
     "languageId": "r"
    }
   },
   "outputs": [
    {
     "name": "stderr",
     "output_type": "stream",
     "text": [
      "\n",
      "Attaching package: ‘magrittr’\n",
      "\n",
      "\n",
      "The following object is masked from ‘package:purrr’:\n",
      "\n",
      "    set_names\n",
      "\n",
      "\n",
      "The following object is masked from ‘package:tidyr’:\n",
      "\n",
      "    extract\n",
      "\n",
      "\n"
     ]
    }
   ],
   "source": [
    "library(magrittr)\n",
    "obis_traits_imputed$abundance[obis_traits_imputed$dataset_name == 'Demersal and mega-benthic species from the MEDITS (Mediterranean International Trawl Survey) project on the Spanish continental shelf between 1994 and 2009.csv']  %<>% \n",
    "    ceiling()"
   ]
  },
  {
   "cell_type": "code",
   "execution_count": 9,
   "id": "109f0db0-2287-4951-8c20-8c7b7b08803a",
   "metadata": {
    "vscode": {
     "languageId": "r"
    }
   },
   "outputs": [],
   "source": [
    "saveRDS(obis_traits_imputed, 'obis_traits_imputed_delete_NA_abund_and_traits.rds')"
   ]
  },
  {
   "cell_type": "code",
   "execution_count": null,
   "id": "d763a33a-eb32-4797-a226-e59177b3fc9c",
   "metadata": {
    "vscode": {
     "languageId": "r"
    }
   },
   "outputs": [
    {
     "name": "stderr",
     "output_type": "stream",
     "text": [
      "Warning message in summary.lm(x):\n",
      "“essentially perfect fit: summary may be unreliable”\n",
      "Warning message in summary.lm(x):\n",
      "“essentially perfect fit: summary may be unreliable”\n",
      "Warning message in summary.lm(x):\n",
      "“essentially perfect fit: summary may be unreliable”\n",
      "Warning message in summary.lm(x):\n",
      "“essentially perfect fit: summary may be unreliable”\n"
     ]
    }
   ],
   "source": [
    "# obis_goodness_table <- group_by(obis_table, dataset_name, grid) %>%\n",
    "#     group_modify(~ broom::glance(lm(TempPref_weighted_mean ~ date_year, data = .x, na.action = na.exclude)))"
   ]
  },
  {
   "cell_type": "code",
   "execution_count": 378,
   "id": "9ff9d611-210c-4470-a13d-e8ea808299e6",
   "metadata": {
    "vscode": {
     "languageId": "r"
    }
   },
   "outputs": [
    {
     "data": {
      "text/html": [
       "<table class=\"dataframe\">\n",
       "<caption>A grouped_df: 1 × 14</caption>\n",
       "<thead>\n",
       "\t<tr><th scope=col>dataset_name</th><th scope=col>grid</th><th scope=col>r.squared</th><th scope=col>adj.r.squared</th><th scope=col>sigma</th><th scope=col>statistic</th><th scope=col>p.value</th><th scope=col>df</th><th scope=col>logLik</th><th scope=col>AIC</th><th scope=col>BIC</th><th scope=col>deviance</th><th scope=col>df.residual</th><th scope=col>nobs</th></tr>\n",
       "\t<tr><th scope=col>&lt;chr&gt;</th><th scope=col>&lt;int&gt;</th><th scope=col>&lt;dbl&gt;</th><th scope=col>&lt;dbl&gt;</th><th scope=col>&lt;dbl&gt;</th><th scope=col>&lt;dbl&gt;</th><th scope=col>&lt;dbl&gt;</th><th scope=col>&lt;dbl&gt;</th><th scope=col>&lt;dbl&gt;</th><th scope=col>&lt;dbl&gt;</th><th scope=col>&lt;dbl&gt;</th><th scope=col>&lt;dbl&gt;</th><th scope=col>&lt;int&gt;</th><th scope=col>&lt;int&gt;</th></tr>\n",
       "</thead>\n",
       "<tbody>\n",
       "\t<tr><td>ICES North Sea International Bottom Trawl Survey for commercial fish species.csv</td><td>577343</td><td>0.9999976</td><td>0.9999952</td><td>0.0005512558</td><td>413219.9</td><td>0.0009903511</td><td>1</td><td>19.90104</td><td>-33.80208</td><td>-36.50624</td><td>3.038829e-07</td><td>1</td><td>3</td></tr>\n",
       "</tbody>\n",
       "</table>\n"
      ],
      "text/latex": [
       "A grouped\\_df: 1 × 14\n",
       "\\begin{tabular}{llllllllllllll}\n",
       " dataset\\_name & grid & r.squared & adj.r.squared & sigma & statistic & p.value & df & logLik & AIC & BIC & deviance & df.residual & nobs\\\\\n",
       " <chr> & <int> & <dbl> & <dbl> & <dbl> & <dbl> & <dbl> & <dbl> & <dbl> & <dbl> & <dbl> & <dbl> & <int> & <int>\\\\\n",
       "\\hline\n",
       "\t ICES North Sea International Bottom Trawl Survey for commercial fish species.csv & 577343 & 0.9999976 & 0.9999952 & 0.0005512558 & 413219.9 & 0.0009903511 & 1 & 19.90104 & -33.80208 & -36.50624 & 3.038829e-07 & 1 & 3\\\\\n",
       "\\end{tabular}\n"
      ],
      "text/markdown": [
       "\n",
       "A grouped_df: 1 × 14\n",
       "\n",
       "| dataset_name &lt;chr&gt; | grid &lt;int&gt; | r.squared &lt;dbl&gt; | adj.r.squared &lt;dbl&gt; | sigma &lt;dbl&gt; | statistic &lt;dbl&gt; | p.value &lt;dbl&gt; | df &lt;dbl&gt; | logLik &lt;dbl&gt; | AIC &lt;dbl&gt; | BIC &lt;dbl&gt; | deviance &lt;dbl&gt; | df.residual &lt;int&gt; | nobs &lt;int&gt; |\n",
       "|---|---|---|---|---|---|---|---|---|---|---|---|---|---|\n",
       "| ICES North Sea International Bottom Trawl Survey for commercial fish species.csv | 577343 | 0.9999976 | 0.9999952 | 0.0005512558 | 413219.9 | 0.0009903511 | 1 | 19.90104 | -33.80208 | -36.50624 | 3.038829e-07 | 1 | 3 |\n",
       "\n"
      ],
      "text/plain": [
       "  dataset_name                                                                    \n",
       "1 ICES North Sea International Bottom Trawl Survey for commercial fish species.csv\n",
       "  grid   r.squared adj.r.squared sigma        statistic p.value      df\n",
       "1 577343 0.9999976 0.9999952     0.0005512558 413219.9  0.0009903511 1 \n",
       "  logLik   AIC       BIC       deviance     df.residual nobs\n",
       "1 19.90104 -33.80208 -36.50624 3.038829e-07 1           3   "
      ]
     },
     "metadata": {},
     "output_type": "display_data"
    }
   ],
   "source": [
    "# filter(obis_goodness_table, r.squared > 0.99999, nobs > 2)"
   ]
  }
 ],
 "metadata": {
  "kernelspec": {
   "display_name": "R [conda env:rspatial] *",
   "language": "R",
   "name": "conda-env-rspatial-r"
  },
  "language_info": {
   "codemirror_mode": "r",
   "file_extension": ".r",
   "mimetype": "text/x-r-source",
   "name": "R",
   "pygments_lexer": "r",
   "version": "4.3.1"
  },
  "toc-autonumbering": true
 },
 "nbformat": 4,
 "nbformat_minor": 5
}
